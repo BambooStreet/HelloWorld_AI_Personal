{
 "cells": [
  {
   "cell_type": "markdown",
   "metadata": {},
   "source": [
    "# inference test"
   ]
  },
  {
   "cell_type": "markdown",
   "metadata": {},
   "source": [
    "## chat_model"
   ]
  },
  {
   "cell_type": "code",
   "execution_count": 1,
   "metadata": {},
   "outputs": [
    {
     "name": "stdout",
     "output_type": "stream",
     "text": [
      "## config_name :  config.json\n",
      "## Loading Tokenizer... ##\n"
     ]
    },
    {
     "name": "stderr",
     "output_type": "stream",
     "text": [
      "/usr/local/lib/python3.10/dist-packages/huggingface_hub/utils/_token.py:99: UserWarning: \n",
      "Error while fetching `HF_TOKEN` secret value from your vault: 'Requesting secret HF_TOKEN timed out. Secrets can only be fetched when running from the Colab UI.'.\n",
      "You are not authenticated with the Hugging Face Hub in this notebook.\n",
      "If the error persists, please let us know by opening an issue on GitHub (https://github.com/huggingface/huggingface_hub/issues/new).\n",
      "  warnings.warn(\n",
      "Special tokens have been added in the vocabulary, make sure the associated word embeddings are fine-tuned or trained.\n"
     ]
    },
    {
     "name": "stdout",
     "output_type": "stream",
     "text": [
      "## Loading Model... ##\n"
     ]
    },
    {
     "data": {
      "application/vnd.jupyter.widget-view+json": {
       "model_id": "0a56278116dc4b1983b04baccaaa313c",
       "version_major": 2,
       "version_minor": 0
      },
      "text/plain": [
       "Loading checkpoint shards:   0%|          | 0/4 [00:00<?, ?it/s]"
      ]
     },
     "metadata": {},
     "output_type": "display_data"
    }
   ],
   "source": [
    "from model_integrated import BllossomModel\n",
    "model = BllossomModel()"
   ]
  },
  {
   "cell_type": "code",
   "execution_count": 2,
   "metadata": {},
   "outputs": [],
   "source": [
    "# [{\"sender\" : , \"content\"}]\n",
    "chat_log = []"
   ]
  },
  {
   "cell_type": "code",
   "execution_count": 3,
   "metadata": {},
   "outputs": [
    {
     "name": "stdout",
     "output_type": "stream",
     "text": [
      "## Chat mode ##\n",
      "## Loading DB... ##\n",
      "## We will retrieve top-3 relevant documents and Answer ##\n"
     ]
    },
    {
     "name": "stderr",
     "output_type": "stream",
     "text": [
      "The attention mask is not set and cannot be inferred from input because pad token is same as eos token.As a consequence, you may observe unexpected behavior. Please pass your input's `attention_mask` to obtain reliable results.\n"
     ]
    },
    {
     "name": "stdout",
     "output_type": "stream",
     "text": [
      "## 모델 응답 :  안녕하세요. 인천외국인노동자센터에서 상담을 받으시는군요. 밀양 깻잎밭에서 근로 중인 캄보디아 출신 여성 노동자로서 임금 계산과 근로 시간에 문제가 있는 것 같아요. 더 자세히 말씀해 주시겠어요? 어떤 문제를 겪고 계신가요?\n"
     ]
    }
   ],
   "source": [
    "# 사용자 쿼리, 더미 데이터\n",
    "query = {\"text\" : \"안녕하세요. 밀양 깻잎밭에서 일하는 캄보디아 출신 여성 노동자입니다. 임금 계산과 근로 시간에 대해 문제가 있어 상담을 받고 싶습니다.\"}\n",
    "answer = model.get_answer(query[\"text\"], chat_log)\n",
    "print(\"## 모델 응답 : \", answer)\n",
    "\n",
    "chat_log.append({\"sender\" : \"user\", \"contents\" : query[\"text\"]})\n",
    "chat_log.append({\"sender\" : \"bot\", \"contents\" : answer})"
   ]
  },
  {
   "cell_type": "code",
   "execution_count": 4,
   "metadata": {},
   "outputs": [
    {
     "data": {
      "text/plain": [
       "[{'sender': 'user',\n",
       "  'contents': '안녕하세요. 밀양 깻잎밭에서 일하는 캄보디아 출신 여성 노동자입니다. 임금 계산과 근로 시간에 대해 문제가 있어 상담을 받고 싶습니다.'},\n",
       " {'sender': 'bot',\n",
       "  'contents': '안녕하세요. 인천외국인노동자센터에서 상담을 받으시는군요. 밀양 깻잎밭에서 근로 중인 캄보디아 출신 여성 노동자로서 임금 계산과 근로 시간에 문제가 있는 것 같아요. 더 자세히 말씀해 주시겠어요? 어떤 문제를 겪고 계신가요?'}]"
      ]
     },
     "execution_count": 4,
     "metadata": {},
     "output_type": "execute_result"
    }
   ],
   "source": [
    "chat_log"
   ]
  },
  {
   "cell_type": "code",
   "execution_count": 5,
   "metadata": {},
   "outputs": [
    {
     "name": "stdout",
     "output_type": "stream",
     "text": [
      "## Chat mode ##\n",
      "## We will retrieve top-3 relevant documents and Answer ##\n",
      "## 모델 응답 :  안녕하세요, 밀양깻잎밭에서 일하는 캄보디아 출신 여성 노동자님. 저는 인천외국인노동자센터에서 상담을 받으시러 온 저입니다. 임금 계산과 근로 시간에 문제가 있는 것 같아 걱정하시는 것 같아요. 더 자세히 말씀해 주시겠어요? 어떤 문제를 겪고 계신가요?\n",
      "\n",
      "먼저, 근로계약서에 근무 시간과 임금에 대한 내용이 적절히 명시되어 있는지 확인해 보시고, 근무일지나 시간 기록부록을 확인해 보시기 바랍니다. 또한, 임금체불이 발생한 기간과 그에 따른 금액을 구체적으로 계산해 보시는 것이 좋습니다.\n",
      "\n",
      "만약 근로계약서나 임금체불에 대한 문제가 있다면, 고용노동부에 진정서를 제출하여 해결할 수 있는 방법도 고려해 보실 수 있습니다. 저는 이러한 문제를 해결하는 데 도움을 드릴 수 있습니다. 어떤 부분에 대해 더 도움을 필요로 하신다면 말씀해 주세요.\n"
     ]
    }
   ],
   "source": [
    "# 사용자 쿼리, 더미 데이터\n",
    "query = {\"text\" : \"하루에 10시간씩 일을 하는데 임금은 8시간으로 계산되었어요. 어제는 사장님이 200만원 주면 사인해주겠다고 했는데, 어떻게 해야 할지를 모르겠어요.\"}\n",
    "answer = model.get_answer(query[\"text\"], chat_log)\n",
    "print(\"## 모델 응답 : \", answer)\n",
    "\n",
    "chat_log.append({\"sender\" : \"user\", \"contents\" : query[\"text\"]})\n",
    "chat_log.append({\"sender\" : \"bot\", \"contents\" : answer})"
   ]
  },
  {
   "cell_type": "code",
   "execution_count": 6,
   "metadata": {},
   "outputs": [
    {
     "data": {
      "text/plain": [
       "[{'sender': 'user',\n",
       "  'contents': '안녕하세요. 밀양 깻잎밭에서 일하는 캄보디아 출신 여성 노동자입니다. 임금 계산과 근로 시간에 대해 문제가 있어 상담을 받고 싶습니다.'},\n",
       " {'sender': 'bot',\n",
       "  'contents': '안녕하세요. 인천외국인노동자센터에서 상담을 받으시는군요. 밀양 깻잎밭에서 근로 중인 캄보디아 출신 여성 노동자로서 임금 계산과 근로 시간에 문제가 있는 것 같아요. 더 자세히 말씀해 주시겠어요? 어떤 문제를 겪고 계신가요?'},\n",
       " {'sender': 'user',\n",
       "  'contents': '하루에 10시간씩 일을 하는데 임금은 8시간으로 계산되었어요. 어제는 사장님이 200만원 주면 사인해주겠다고 했는데, 어떻게 해야 할지를 모르겠어요.'},\n",
       " {'sender': 'bot',\n",
       "  'contents': '안녕하세요, 밀양깻잎밭에서 일하는 캄보디아 출신 여성 노동자님. 저는 인천외국인노동자센터에서 상담을 받으시러 온 저입니다. 임금 계산과 근로 시간에 문제가 있는 것 같아 걱정하시는 것 같아요. 더 자세히 말씀해 주시겠어요? 어떤 문제를 겪고 계신가요?\\n\\n먼저, 근로계약서에 근무 시간과 임금에 대한 내용이 적절히 명시되어 있는지 확인해 보시고, 근무일지나 시간 기록부록을 확인해 보시기 바랍니다. 또한, 임금체불이 발생한 기간과 그에 따른 금액을 구체적으로 계산해 보시는 것이 좋습니다.\\n\\n만약 근로계약서나 임금체불에 대한 문제가 있다면, 고용노동부에 진정서를 제출하여 해결할 수 있는 방법도 고려해 보실 수 있습니다. 저는 이러한 문제를 해결하는 데 도움을 드릴 수 있습니다. 어떤 부분에 대해 더 도움을 필요로 하신다면 말씀해 주세요.'}]"
      ]
     },
     "execution_count": 6,
     "metadata": {},
     "output_type": "execute_result"
    }
   ],
   "source": [
    "chat_log"
   ]
  },
  {
   "cell_type": "code",
   "execution_count": 7,
   "metadata": {},
   "outputs": [
    {
     "name": "stdout",
     "output_type": "stream",
     "text": [
      "## Chat mode ##\n",
      "## We will retrieve top-3 relevant documents and Answer ##\n",
      "## 모델 응답 :  네, 오프라인 상담사가 연결될 수 있습니다. 인천외국인노동자센터는 다양한 언어를 구사하는 외국인 근로자들이 임금, 근로 환경, 복지 등에 대한 문제를 해결할 수 있도록 도움을 제공합니다. 상담사가 직접 연락하여 상담을 진행해 드릴 수 있습니다. 상담사와 연결을 원하시면, 현재 상담 중인 저를 통해 연결해드릴 수 있습니다. 상담사와의 연결을 원하시면 말씀해 주세요.\n"
     ]
    }
   ],
   "source": [
    "# 사용자 쿼리, 더미 데이터\n",
    "query = {\"text\" : \"오프라인 상담사와 연결이 가능할까요?\"}\n",
    "answer = model.get_answer(query[\"text\"], chat_log)\n",
    "print(\"## 모델 응답 : \", answer)\n",
    "\n",
    "chat_log.append({\"sender\" : \"user\", \"contents\" : query[\"text\"]})\n",
    "chat_log.append({\"sender\" : \"bot\", \"contents\" : answer})"
   ]
  },
  {
   "cell_type": "code",
   "execution_count": 8,
   "metadata": {},
   "outputs": [
    {
     "data": {
      "text/plain": [
       "[{'sender': 'user',\n",
       "  'contents': '안녕하세요. 밀양 깻잎밭에서 일하는 캄보디아 출신 여성 노동자입니다. 임금 계산과 근로 시간에 대해 문제가 있어 상담을 받고 싶습니다.'},\n",
       " {'sender': 'bot',\n",
       "  'contents': '안녕하세요. 인천외국인노동자센터에서 상담을 받으시는군요. 밀양 깻잎밭에서 근로 중인 캄보디아 출신 여성 노동자로서 임금 계산과 근로 시간에 문제가 있는 것 같아요. 더 자세히 말씀해 주시겠어요? 어떤 문제를 겪고 계신가요?'},\n",
       " {'sender': 'user',\n",
       "  'contents': '하루에 10시간씩 일을 하는데 임금은 8시간으로 계산되었어요. 어제는 사장님이 200만원 주면 사인해주겠다고 했는데, 어떻게 해야 할지를 모르겠어요.'},\n",
       " {'sender': 'bot',\n",
       "  'contents': '안녕하세요, 밀양깻잎밭에서 일하는 캄보디아 출신 여성 노동자님. 저는 인천외국인노동자센터에서 상담을 받으시러 온 저입니다. 임금 계산과 근로 시간에 문제가 있는 것 같아 걱정하시는 것 같아요. 더 자세히 말씀해 주시겠어요? 어떤 문제를 겪고 계신가요?\\n\\n먼저, 근로계약서에 근무 시간과 임금에 대한 내용이 적절히 명시되어 있는지 확인해 보시고, 근무일지나 시간 기록부록을 확인해 보시기 바랍니다. 또한, 임금체불이 발생한 기간과 그에 따른 금액을 구체적으로 계산해 보시는 것이 좋습니다.\\n\\n만약 근로계약서나 임금체불에 대한 문제가 있다면, 고용노동부에 진정서를 제출하여 해결할 수 있는 방법도 고려해 보실 수 있습니다. 저는 이러한 문제를 해결하는 데 도움을 드릴 수 있습니다. 어떤 부분에 대해 더 도움을 필요로 하신다면 말씀해 주세요.'},\n",
       " {'sender': 'user', 'contents': '오프라인 상담사와 연결이 가능할까요?'},\n",
       " {'sender': 'bot',\n",
       "  'contents': '네, 오프라인 상담사가 연결될 수 있습니다. 인천외국인노동자센터는 다양한 언어를 구사하는 외국인 근로자들이 임금, 근로 환경, 복지 등에 대한 문제를 해결할 수 있도록 도움을 제공합니다. 상담사가 직접 연락하여 상담을 진행해 드릴 수 있습니다. 상담사와 연결을 원하시면, 현재 상담 중인 저를 통해 연결해드릴 수 있습니다. 상담사와의 연결을 원하시면 말씀해 주세요.'}]"
      ]
     },
     "execution_count": 8,
     "metadata": {},
     "output_type": "execute_result"
    }
   ],
   "source": [
    "chat_log"
   ]
  },
  {
   "cell_type": "markdown",
   "metadata": {},
   "source": [
    "## summary_model"
   ]
  },
  {
   "cell_type": "code",
   "execution_count": 9,
   "metadata": {},
   "outputs": [
    {
     "data": {
      "text/plain": [
       "[{'sender': 'user',\n",
       "  'contents': '안녕하세요. 밀양 깻잎밭에서 일하는 캄보디아 출신 여성 노동자입니다. 임금 계산과 근로 시간에 대해 문제가 있어 상담을 받고 싶습니다.'},\n",
       " {'sender': 'bot',\n",
       "  'contents': '안녕하세요. 인천외국인노동자센터에서 상담을 받으시는군요. 밀양 깻잎밭에서 근로 중인 캄보디아 출신 여성 노동자로서 임금 계산과 근로 시간에 문제가 있는 것 같아요. 더 자세히 말씀해 주시겠어요? 어떤 문제를 겪고 계신가요?'},\n",
       " {'sender': 'user',\n",
       "  'contents': '하루에 10시간씩 일을 하는데 임금은 8시간으로 계산되었어요. 어제는 사장님이 200만원 주면 사인해주겠다고 했는데, 어떻게 해야 할지를 모르겠어요.'},\n",
       " {'sender': 'bot',\n",
       "  'contents': '안녕하세요, 밀양깻잎밭에서 일하는 캄보디아 출신 여성 노동자님. 저는 인천외국인노동자센터에서 상담을 받으시러 온 저입니다. 임금 계산과 근로 시간에 문제가 있는 것 같아 걱정하시는 것 같아요. 더 자세히 말씀해 주시겠어요? 어떤 문제를 겪고 계신가요?\\n\\n먼저, 근로계약서에 근무 시간과 임금에 대한 내용이 적절히 명시되어 있는지 확인해 보시고, 근무일지나 시간 기록부록을 확인해 보시기 바랍니다. 또한, 임금체불이 발생한 기간과 그에 따른 금액을 구체적으로 계산해 보시는 것이 좋습니다.\\n\\n만약 근로계약서나 임금체불에 대한 문제가 있다면, 고용노동부에 진정서를 제출하여 해결할 수 있는 방법도 고려해 보실 수 있습니다. 저는 이러한 문제를 해결하는 데 도움을 드릴 수 있습니다. 어떤 부분에 대해 더 도움을 필요로 하신다면 말씀해 주세요.'},\n",
       " {'sender': 'user', 'contents': '오프라인 상담사와 연결이 가능할까요?'},\n",
       " {'sender': 'bot',\n",
       "  'contents': '네, 오프라인 상담사가 연결될 수 있습니다. 인천외국인노동자센터는 다양한 언어를 구사하는 외국인 근로자들이 임금, 근로 환경, 복지 등에 대한 문제를 해결할 수 있도록 도움을 제공합니다. 상담사가 직접 연락하여 상담을 진행해 드릴 수 있습니다. 상담사와 연결을 원하시면, 현재 상담 중인 저를 통해 연결해드릴 수 있습니다. 상담사와의 연결을 원하시면 말씀해 주세요.'}]"
      ]
     },
     "execution_count": 9,
     "metadata": {},
     "output_type": "execute_result"
    }
   ],
   "source": [
    "chat_log"
   ]
  },
  {
   "cell_type": "code",
   "execution_count": 10,
   "metadata": {},
   "outputs": [
    {
     "name": "stdout",
     "output_type": "stream",
     "text": [
      "## We will summary dialog ##\n"
     ]
    }
   ],
   "source": [
    "summarization = model.get_summary(chat_log)"
   ]
  },
  {
   "cell_type": "code",
   "execution_count": 11,
   "metadata": {},
   "outputs": [
    {
     "data": {
      "text/plain": [
       "[{'sender': 'user',\n",
       "  'contents': '안녕하세요. 밀양 깻잎밭에서 일하는 캄보디아 출신 여성 노동자입니다. 임금 계산과 근로 시간에 대해 문제가 있어 상담을 받고 싶습니다.'},\n",
       " {'sender': 'bot',\n",
       "  'contents': '안녕하세요. 인천외국인노동자센터에서 상담을 받으시는군요. 밀양 깻잎밭에서 근로 중인 캄보디아 출신 여성 노동자로서 임금 계산과 근로 시간에 문제가 있는 것 같아요. 더 자세히 말씀해 주시겠어요? 어떤 문제를 겪고 계신가요?'},\n",
       " {'sender': 'user',\n",
       "  'contents': '하루에 10시간씩 일을 하는데 임금은 8시간으로 계산되었어요. 어제는 사장님이 200만원 주면 사인해주겠다고 했는데, 어떻게 해야 할지를 모르겠어요.'},\n",
       " {'sender': 'bot',\n",
       "  'contents': '안녕하세요, 밀양깻잎밭에서 일하는 캄보디아 출신 여성 노동자님. 저는 인천외국인노동자센터에서 상담을 받으시러 온 저입니다. 임금 계산과 근로 시간에 문제가 있는 것 같아 걱정하시는 것 같아요. 더 자세히 말씀해 주시겠어요? 어떤 문제를 겪고 계신가요?\\n\\n먼저, 근로계약서에 근무 시간과 임금에 대한 내용이 적절히 명시되어 있는지 확인해 보시고, 근무일지나 시간 기록부록을 확인해 보시기 바랍니다. 또한, 임금체불이 발생한 기간과 그에 따른 금액을 구체적으로 계산해 보시는 것이 좋습니다.\\n\\n만약 근로계약서나 임금체불에 대한 문제가 있다면, 고용노동부에 진정서를 제출하여 해결할 수 있는 방법도 고려해 보실 수 있습니다. 저는 이러한 문제를 해결하는 데 도움을 드릴 수 있습니다. 어떤 부분에 대해 더 도움을 필요로 하신다면 말씀해 주세요.'},\n",
       " {'sender': 'user', 'contents': '오프라인 상담사와 연결이 가능할까요?'},\n",
       " {'sender': 'bot',\n",
       "  'contents': '네, 오프라인 상담사가 연결될 수 있습니다. 인천외국인노동자센터는 다양한 언어를 구사하는 외국인 근로자들이 임금, 근로 환경, 복지 등에 대한 문제를 해결할 수 있도록 도움을 제공합니다. 상담사가 직접 연락하여 상담을 진행해 드릴 수 있습니다. 상담사와 연결을 원하시면, 현재 상담 중인 저를 통해 연결해드릴 수 있습니다. 상담사와의 연결을 원하시면 말씀해 주세요.'}]"
      ]
     },
     "execution_count": 11,
     "metadata": {},
     "output_type": "execute_result"
    }
   ],
   "source": [
    "chat_log"
   ]
  },
  {
   "cell_type": "code",
   "execution_count": 12,
   "metadata": {},
   "outputs": [
    {
     "data": {
      "application/vnd.google.colaboratory.intrinsic+json": {
       "type": "string"
      },
      "text/plain": [
       "'밀양 깻잎밭에서 일하는 캄보디아 출신 여성 노동자님은 임금 계산과 근로 시간에 대한 문제를 겪고 계신다. 하루에 10시간 일했음에도 불구하고 임금은 8시간으로 계산되었으며, 사장님이 200만원을 주면 사인해 주겠다고 했지만 해결 방법을 모르고 계신다. 상담사와의 대화에서 근로계약서와 근무일지를 확인하고, 임금체불 내용을 구체적으로 계산해 보는 것이 중요 하며, 필요 시 고용노동부에 진정서를 제출하여 해결할 수 있는 방법을 고려할 수 있다. 또한, 오프라인 상담사가 연결될 수 있으며, 상담사와의 직접적인 상담을 통해 문제를 해결할 수 있다.'"
      ]
     },
     "execution_count": 12,
     "metadata": {},
     "output_type": "execute_result"
    }
   ],
   "source": [
    "summarization"
   ]
  },
  {
   "cell_type": "markdown",
   "metadata": {},
   "source": [
    "# Quantized model inference test"
   ]
  },
  {
   "cell_type": "markdown",
   "metadata": {},
   "source": [
    "## chat_model"
   ]
  },
  {
   "cell_type": "code",
   "execution_count": null,
   "metadata": {},
   "outputs": [],
   "source": [
    "from model_quantized import BllossomModel\n",
    "model = BllossomModel()\n",
    "\n",
    "# [{\"sender\" : , \"content\"}]\n",
    "chat_log = []"
   ]
  },
  {
   "cell_type": "code",
   "execution_count": null,
   "metadata": {},
   "outputs": [],
   "source": [
    "# 사용자 쿼리, 더미 데이터\n",
    "query = {\"text\" : \"안녕하세요. 밀양 깻잎밭에서 일하는 캄보디아 출신 여성 노동자입니다. 임금 계산과 근로 시간에 대해 문제가 있어 상담을 받고 싶습니다.\"}\n",
    "answer = model.get_answer(query[\"text\"], chat_log)\n",
    "print(\"## 모델 응답 : \", answer)\n",
    "\n",
    "chat_log.append({\"sender\" : \"user\", \"content\" : query[\"text\"]})\n",
    "chat_log.append({\"sender\" : \"bot\", \"content\" : answer})"
   ]
  },
  {
   "cell_type": "code",
   "execution_count": null,
   "metadata": {},
   "outputs": [],
   "source": [
    "# 사용자 쿼리, 더미 데이터\n",
    "query = {\"text\" : \"하루에 10시간씩 일을 하는데 임금은 8시간으로 계산되었어요. 어제는 사장님이 200만원 주면 사인해주겠다고 했는데, 어떻게 해야 할지를 모르겠어요.\"}\n",
    "answer = model.get_answer(query[\"text\"], chat_log)\n",
    "print(\"## 모델 응답 : \", answer)\n",
    "\n",
    "chat_log.append({\"sender\" : \"user\", \"content\" : query[\"text\"]})\n",
    "chat_log.append({\"sender\" : \"bot\", \"content\" : answer})"
   ]
  },
  {
   "cell_type": "code",
   "execution_count": null,
   "metadata": {},
   "outputs": [],
   "source": [
    "# 사용자 쿼리, 더미 데이터\n",
    "query = {\"text\" : \"오프라인 상담사와 연결이 가능할까요?\"}\n",
    "answer = model.get_answer(query[\"text\"], chat_log)\n",
    "print(\"## 모델 응답 : \", answer)\n",
    "\n",
    "chat_log.append({\"sender\" : \"user\", \"content\" : query[\"text\"]})\n",
    "chat_log.append({\"sender\" : \"bot\", \"content\" : answer})"
   ]
  },
  {
   "cell_type": "code",
   "execution_count": null,
   "metadata": {},
   "outputs": [],
   "source": [
    "chat_log"
   ]
  },
  {
   "cell_type": "markdown",
   "metadata": {},
   "source": [
    "## summary_model"
   ]
  },
  {
   "cell_type": "code",
   "execution_count": null,
   "metadata": {},
   "outputs": [],
   "source": [
    "summarization = model.get_summary(chat_log)"
   ]
  },
  {
   "cell_type": "code",
   "execution_count": null,
   "metadata": {},
   "outputs": [],
   "source": [
    "chat_log"
   ]
  },
  {
   "cell_type": "code",
   "execution_count": null,
   "metadata": {},
   "outputs": [],
   "source": [
    "summarization"
   ]
  }
 ],
 "metadata": {
  "kernelspec": {
   "display_name": "Python 3",
   "language": "python",
   "name": "python3"
  },
  "language_info": {
   "codemirror_mode": {
    "name": "ipython",
    "version": 3
   },
   "file_extension": ".py",
   "mimetype": "text/x-python",
   "name": "python",
   "nbconvert_exporter": "python",
   "pygments_lexer": "ipython3",
   "version": "3.10.12"
  }
 },
 "nbformat": 4,
 "nbformat_minor": 2
}
