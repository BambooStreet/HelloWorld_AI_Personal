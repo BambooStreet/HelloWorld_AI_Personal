{
  "cells": [
    {
      "cell_type": "markdown",
      "metadata": {
        "id": "RnzV19dILPKK"
      },
      "source": [
        "# 데이터"
      ]
    },
    {
      "cell_type": "markdown",
      "metadata": {
        "id": "3fIw5ckeK7MI"
      },
      "source": [
        "### 데이터셋 불러오기"
      ]
    },
    {
      "cell_type": "code",
      "execution_count": null,
      "metadata": {
        "colab": {
          "base_uri": "https://localhost:8080/"
        },
        "id": "A2Mzaf22KWKx",
        "outputId": "5c2e03f3-3153-437e-a51a-3e4193a2d4ee"
      },
      "outputs": [],
      "source": [
        "# from google.colab import drive\n",
        "# drive.mount('/content/drive')"
      ]
    },
    {
      "cell_type": "code",
      "execution_count": 1,
      "metadata": {
        "id": "0QERwEELKlk6"
      },
      "outputs": [
        {
          "data": {
            "text/html": [
              "<div>\n",
              "<style scoped>\n",
              "    .dataframe tbody tr th:only-of-type {\n",
              "        vertical-align: middle;\n",
              "    }\n",
              "\n",
              "    .dataframe tbody tr th {\n",
              "        vertical-align: top;\n",
              "    }\n",
              "\n",
              "    .dataframe thead th {\n",
              "        text-align: right;\n",
              "    }\n",
              "</style>\n",
              "<table border=\"1\" class=\"dataframe\">\n",
              "  <thead>\n",
              "    <tr style=\"text-align: right;\">\n",
              "      <th></th>\n",
              "      <th>제목</th>\n",
              "      <th>작성일</th>\n",
              "      <th>상담유형</th>\n",
              "      <th>거주지역</th>\n",
              "      <th>국적</th>\n",
              "      <th>체류자격</th>\n",
              "      <th>상담내용</th>\n",
              "      <th>진행 과정 및 결과</th>\n",
              "      <th>관련법령 및 정보</th>\n",
              "      <th>평가 및 의의</th>\n",
              "      <th>상담지원단체</th>\n",
              "      <th>작성자</th>\n",
              "      <th>url</th>\n",
              "    </tr>\n",
              "  </thead>\n",
              "  <tbody>\n",
              "    <tr>\n",
              "      <th>0</th>\n",
              "      <td>중도 퇴사 후 근로소득 신고되지 않아 고용허가연장 안된 노동자 지원</td>\n",
              "      <td>23-11-27</td>\n",
              "      <td>체류자격</td>\n",
              "      <td>여주시</td>\n",
              "      <td>우즈베키스탄</td>\n",
              "      <td>E-9</td>\n",
              "      <td>중도 퇴직하는 외국인 근로자의 추가 납부세액 사례</td>\n",
              "      <td>2023-09-18\\n- 고용노동부에서 외국인근로자의 2020년 종합소득세 체납을 ...</td>\n",
              "      <td></td>\n",
              "      <td></td>\n",
              "      <td>여주시외국인복지센터</td>\n",
              "      <td>이수현</td>\n",
              "      <td>https://gmhr.or.kr/case/1703?page=1</td>\n",
              "    </tr>\n",
              "    <tr>\n",
              "      <th>1</th>\n",
              "      <td>국민연금 반환일시금 신청 지원</td>\n",
              "      <td>23-11-27</td>\n",
              "      <td>기타</td>\n",
              "      <td>남양주시</td>\n",
              "      <td>필리핀</td>\n",
              "      <td>미등록</td>\n",
              "      <td>2023년 8월 중순 미등록체류 상황에서 본국으로 강제출국 당한 필리핀 국적의 이주...</td>\n",
              "      <td>11월 2일\\n1. 노동자로부터 우편으로 관련서류 수령.\\n 1) 외국인등록증 사본...</td>\n",
              "      <td></td>\n",
              "      <td></td>\n",
              "      <td>남양주시외국인복지센터</td>\n",
              "      <td>김성수</td>\n",
              "      <td>https://gmhr.or.kr/case/1702?page=1</td>\n",
              "    </tr>\n",
              "    <tr>\n",
              "      <th>2</th>\n",
              "      <td>외국인아동 교육권 보장을 위한 체류자격 부여자(G-1-85) 외국인등록 절차 지원</td>\n",
              "      <td>23-11-27</td>\n",
              "      <td>체류자격</td>\n",
              "      <td>남양주시</td>\n",
              "      <td>필리핀</td>\n",
              "      <td>미등록</td>\n",
              "      <td>법무부 장기 미등록체류 이주아동 구제대책으로 23년 4월에 접수한 필리핀 국적의 아...</td>\n",
              "      <td>11월 1일\\n1. 양주출입국 사범과 방문.\\n2. 담당자로부터 유전자 검사 결과 ...</td>\n",
              "      <td></td>\n",
              "      <td></td>\n",
              "      <td>남양주시외국인복지센터</td>\n",
              "      <td>김성수</td>\n",
              "      <td>https://gmhr.or.kr/case/1701?page=1</td>\n",
              "    </tr>\n",
              "    <tr>\n",
              "      <th>3</th>\n",
              "      <td>단체행동을 통해 체불임금 해결한 사례</td>\n",
              "      <td>23-11-27</td>\n",
              "      <td>임금체불</td>\n",
              "      <td>안산시</td>\n",
              "      <td>필리핀</td>\n",
              "      <td>E-9</td>\n",
              "      <td>사례자 안산시 한 직장에서 근무하는데, 회사에서 잔업수당 등을 상습적으로 속이고 있...</td>\n",
              "      <td>8월 14일\\n(전화상담) 회사에서 급여계산을 잘못해서 주고 야간 수당을 안주고 있...</td>\n",
              "      <td></td>\n",
              "      <td></td>\n",
              "      <td>글로벌미션센터</td>\n",
              "      <td>최경식</td>\n",
              "      <td>https://gmhr.or.kr/case/1700?page=1</td>\n",
              "    </tr>\n",
              "    <tr>\n",
              "      <th>4</th>\n",
              "      <td>취업가능기간이 짧게 남아 취업이 어려운 노동자 구직활동 지원</td>\n",
              "      <td>23-11-27</td>\n",
              "      <td>고용허가</td>\n",
              "      <td>시흥시</td>\n",
              "      <td>필리핀</td>\n",
              "      <td>E-9</td>\n",
              "      <td>상기 사례자는 한국 체류기간(노동가능기간)이 1년 4개월로 비교적 짧게 남아서 면접...</td>\n",
              "      <td>4월 2일\\n(내방상담) 현재 다니는 2번째 회사에도 일이 없어서 사업장변경 신청하...</td>\n",
              "      <td></td>\n",
              "      <td></td>\n",
              "      <td>글로벌미션센터</td>\n",
              "      <td>최경식</td>\n",
              "      <td>https://gmhr.or.kr/case/1699?page=1</td>\n",
              "    </tr>\n",
              "  </tbody>\n",
              "</table>\n",
              "</div>"
            ],
            "text/plain": [
              "                                              제목       작성일  상담유형  거주지역  \\\n",
              "0          중도 퇴사 후 근로소득 신고되지 않아 고용허가연장 안된 노동자 지원  23-11-27  체류자격   여주시   \n",
              "1                               국민연금 반환일시금 신청 지원  23-11-27    기타  남양주시   \n",
              "2  외국인아동 교육권 보장을 위한 체류자격 부여자(G-1-85) 외국인등록 절차 지원  23-11-27  체류자격  남양주시   \n",
              "3                           단체행동을 통해 체불임금 해결한 사례  23-11-27  임금체불   안산시   \n",
              "4              취업가능기간이 짧게 남아 취업이 어려운 노동자 구직활동 지원  23-11-27  고용허가   시흥시   \n",
              "\n",
              "       국적 체류자격                                               상담내용  \\\n",
              "0  우즈베키스탄  E-9                        중도 퇴직하는 외국인 근로자의 추가 납부세액 사례   \n",
              "1     필리핀  미등록  2023년 8월 중순 미등록체류 상황에서 본국으로 강제출국 당한 필리핀 국적의 이주...   \n",
              "2     필리핀  미등록  법무부 장기 미등록체류 이주아동 구제대책으로 23년 4월에 접수한 필리핀 국적의 아...   \n",
              "3     필리핀  E-9  사례자 안산시 한 직장에서 근무하는데, 회사에서 잔업수당 등을 상습적으로 속이고 있...   \n",
              "4     필리핀  E-9  상기 사례자는 한국 체류기간(노동가능기간)이 1년 4개월로 비교적 짧게 남아서 면접...   \n",
              "\n",
              "                                          진행 과정 및 결과 관련법령 및 정보 평가 및 의의  \\\n",
              "0  2023-09-18\\n- 고용노동부에서 외국인근로자의 2020년 종합소득세 체납을 ...                     \n",
              "1  11월 2일\\n1. 노동자로부터 우편으로 관련서류 수령.\\n 1) 외국인등록증 사본...                     \n",
              "2  11월 1일\\n1. 양주출입국 사범과 방문.\\n2. 담당자로부터 유전자 검사 결과 ...                     \n",
              "3  8월 14일\\n(전화상담) 회사에서 급여계산을 잘못해서 주고 야간 수당을 안주고 있...                     \n",
              "4  4월 2일\\n(내방상담) 현재 다니는 2번째 회사에도 일이 없어서 사업장변경 신청하...                     \n",
              "\n",
              "        상담지원단체  작성자                                  url  \n",
              "0   여주시외국인복지센터  이수현  https://gmhr.or.kr/case/1703?page=1  \n",
              "1  남양주시외국인복지센터  김성수  https://gmhr.or.kr/case/1702?page=1  \n",
              "2  남양주시외국인복지센터  김성수  https://gmhr.or.kr/case/1701?page=1  \n",
              "3      글로벌미션센터  최경식  https://gmhr.or.kr/case/1700?page=1  \n",
              "4      글로벌미션센터  최경식  https://gmhr.or.kr/case/1699?page=1  "
            ]
          },
          "execution_count": 1,
          "metadata": {},
          "output_type": "execute_result"
        }
      ],
      "source": [
        "import pandas as pd\n",
        "data = pd.read_json('../data/raw_data/Web/경기도외국인지원센터_상담사례.json')\n",
        "data.head()"
      ]
    },
    {
      "cell_type": "code",
      "execution_count": 2,
      "metadata": {},
      "outputs": [
        {
          "data": {
            "text/plain": [
              "(1700, 13)"
            ]
          },
          "execution_count": 2,
          "metadata": {},
          "output_type": "execute_result"
        }
      ],
      "source": [
        "data.shape"
      ]
    },
    {
      "cell_type": "markdown",
      "metadata": {
        "id": "VCTX_ianLLbI"
      },
      "source": [
        "### 2023년 이후의 사례만"
      ]
    },
    {
      "cell_type": "code",
      "execution_count": 3,
      "metadata": {
        "id": "TAvdVkc2K6Al"
      },
      "outputs": [],
      "source": [
        "# 작성일 열을 datetime으로 변환\n",
        "data['작성일'] = pd.to_datetime(data['작성일'], format='%y-%m-%d')"
      ]
    },
    {
      "cell_type": "code",
      "execution_count": 4,
      "metadata": {
        "id": "T1BwjVVALGs-"
      },
      "outputs": [],
      "source": [
        "from datetime import datetime\n",
        "\n",
        "# 2023년 1월 1일 이후의 데이터만 필터링\n",
        "cutoff_date = datetime(2023, 1, 1)\n",
        "filtered_data = data[data['작성일'] >= cutoff_date]"
      ]
    },
    {
      "cell_type": "code",
      "execution_count": 10,
      "metadata": {},
      "outputs": [
        {
          "data": {
            "text/html": [
              "<div>\n",
              "<style scoped>\n",
              "    .dataframe tbody tr th:only-of-type {\n",
              "        vertical-align: middle;\n",
              "    }\n",
              "\n",
              "    .dataframe tbody tr th {\n",
              "        vertical-align: top;\n",
              "    }\n",
              "\n",
              "    .dataframe thead th {\n",
              "        text-align: right;\n",
              "    }\n",
              "</style>\n",
              "<table border=\"1\" class=\"dataframe\">\n",
              "  <thead>\n",
              "    <tr style=\"text-align: right;\">\n",
              "      <th></th>\n",
              "      <th>제목</th>\n",
              "      <th>작성일</th>\n",
              "      <th>상담유형</th>\n",
              "      <th>거주지역</th>\n",
              "      <th>국적</th>\n",
              "      <th>체류자격</th>\n",
              "      <th>상담내용</th>\n",
              "      <th>진행 과정 및 결과</th>\n",
              "      <th>관련법령 및 정보</th>\n",
              "      <th>평가 및 의의</th>\n",
              "      <th>상담지원단체</th>\n",
              "      <th>작성자</th>\n",
              "      <th>url</th>\n",
              "    </tr>\n",
              "  </thead>\n",
              "  <tbody>\n",
              "    <tr>\n",
              "      <th>0</th>\n",
              "      <td>중도 퇴사 후 근로소득 신고되지 않아 고용허가연장 안된 노동자 지원</td>\n",
              "      <td>2023-11-27</td>\n",
              "      <td>체류자격</td>\n",
              "      <td>여주시</td>\n",
              "      <td>우즈베키스탄</td>\n",
              "      <td>E-9</td>\n",
              "      <td>중도 퇴직하는 외국인 근로자의 추가 납부세액 사례</td>\n",
              "      <td>2023-09-18\\n- 고용노동부에서 외국인근로자의 2020년 종합소득세 체납을 ...</td>\n",
              "      <td></td>\n",
              "      <td></td>\n",
              "      <td>여주시외국인복지센터</td>\n",
              "      <td>이수현</td>\n",
              "      <td>https://gmhr.or.kr/case/1703?page=1</td>\n",
              "    </tr>\n",
              "    <tr>\n",
              "      <th>1</th>\n",
              "      <td>국민연금 반환일시금 신청 지원</td>\n",
              "      <td>2023-11-27</td>\n",
              "      <td>기타</td>\n",
              "      <td>남양주시</td>\n",
              "      <td>필리핀</td>\n",
              "      <td>미등록</td>\n",
              "      <td>2023년 8월 중순 미등록체류 상황에서 본국으로 강제출국 당한 필리핀 국적의 이주...</td>\n",
              "      <td>11월 2일\\n1. 노동자로부터 우편으로 관련서류 수령.\\n 1) 외국인등록증 사본...</td>\n",
              "      <td></td>\n",
              "      <td></td>\n",
              "      <td>남양주시외국인복지센터</td>\n",
              "      <td>김성수</td>\n",
              "      <td>https://gmhr.or.kr/case/1702?page=1</td>\n",
              "    </tr>\n",
              "    <tr>\n",
              "      <th>2</th>\n",
              "      <td>외국인아동 교육권 보장을 위한 체류자격 부여자(G-1-85) 외국인등록 절차 지원</td>\n",
              "      <td>2023-11-27</td>\n",
              "      <td>체류자격</td>\n",
              "      <td>남양주시</td>\n",
              "      <td>필리핀</td>\n",
              "      <td>미등록</td>\n",
              "      <td>법무부 장기 미등록체류 이주아동 구제대책으로 23년 4월에 접수한 필리핀 국적의 아...</td>\n",
              "      <td>11월 1일\\n1. 양주출입국 사범과 방문.\\n2. 담당자로부터 유전자 검사 결과 ...</td>\n",
              "      <td></td>\n",
              "      <td></td>\n",
              "      <td>남양주시외국인복지센터</td>\n",
              "      <td>김성수</td>\n",
              "      <td>https://gmhr.or.kr/case/1701?page=1</td>\n",
              "    </tr>\n",
              "    <tr>\n",
              "      <th>3</th>\n",
              "      <td>단체행동을 통해 체불임금 해결한 사례</td>\n",
              "      <td>2023-11-27</td>\n",
              "      <td>임금체불</td>\n",
              "      <td>안산시</td>\n",
              "      <td>필리핀</td>\n",
              "      <td>E-9</td>\n",
              "      <td>사례자 안산시 한 직장에서 근무하는데, 회사에서 잔업수당 등을 상습적으로 속이고 있...</td>\n",
              "      <td>8월 14일\\n(전화상담) 회사에서 급여계산을 잘못해서 주고 야간 수당을 안주고 있...</td>\n",
              "      <td></td>\n",
              "      <td></td>\n",
              "      <td>글로벌미션센터</td>\n",
              "      <td>최경식</td>\n",
              "      <td>https://gmhr.or.kr/case/1700?page=1</td>\n",
              "    </tr>\n",
              "    <tr>\n",
              "      <th>4</th>\n",
              "      <td>취업가능기간이 짧게 남아 취업이 어려운 노동자 구직활동 지원</td>\n",
              "      <td>2023-11-27</td>\n",
              "      <td>고용허가</td>\n",
              "      <td>시흥시</td>\n",
              "      <td>필리핀</td>\n",
              "      <td>E-9</td>\n",
              "      <td>상기 사례자는 한국 체류기간(노동가능기간)이 1년 4개월로 비교적 짧게 남아서 면접...</td>\n",
              "      <td>4월 2일\\n(내방상담) 현재 다니는 2번째 회사에도 일이 없어서 사업장변경 신청하...</td>\n",
              "      <td></td>\n",
              "      <td></td>\n",
              "      <td>글로벌미션센터</td>\n",
              "      <td>최경식</td>\n",
              "      <td>https://gmhr.or.kr/case/1699?page=1</td>\n",
              "    </tr>\n",
              "    <tr>\n",
              "      <th>...</th>\n",
              "      <td>...</td>\n",
              "      <td>...</td>\n",
              "      <td>...</td>\n",
              "      <td>...</td>\n",
              "      <td>...</td>\n",
              "      <td>...</td>\n",
              "      <td>...</td>\n",
              "      <td>...</td>\n",
              "      <td>...</td>\n",
              "      <td>...</td>\n",
              "      <td>...</td>\n",
              "      <td>...</td>\n",
              "      <td>...</td>\n",
              "    </tr>\n",
              "    <tr>\n",
              "      <th>244</th>\n",
              "      <td>가슴통증과 이상 심장박동으로 치료가 필요한 노동자의 병원진료 지원</td>\n",
              "      <td>2023-02-23</td>\n",
              "      <td>의료</td>\n",
              "      <td>안산시</td>\n",
              "      <td>필리핀</td>\n",
              "      <td>E-9</td>\n",
              "      <td>상기 사례자는 필리핀국적의 이주노동자로 가슴 통증을 호소하여 안산**심장내과 방문하...</td>\n",
              "      <td>1월 6일\\n(전화상담) 심장이 가끔 쪼이는 듯이 아파서 심장내과 방문 원함. 내일...</td>\n",
              "      <td></td>\n",
              "      <td></td>\n",
              "      <td>글로벌미션센터</td>\n",
              "      <td>최경식</td>\n",
              "      <td>https://gmhr.or.kr/case/1459?page=17</td>\n",
              "    </tr>\n",
              "    <tr>\n",
              "      <th>245</th>\n",
              "      <td>중환자실 계속 입원이 어려운 환자의 전원 지원</td>\n",
              "      <td>2023-02-23</td>\n",
              "      <td>의료</td>\n",
              "      <td>시흥시</td>\n",
              "      <td>중국</td>\n",
              "      <td>미등록</td>\n",
              "      <td>중국국적 미등록 이주민. 환자가 시흥 두군데 병원 들렸으나 입원이 안되서 00병원 ...</td>\n",
              "      <td>1월31일\\n환자가 시흥 두군데 병원 들렸으나 입원이 안되서 00병원 응급실 거쳐 ...</td>\n",
              "      <td></td>\n",
              "      <td></td>\n",
              "      <td>안산외국인노동자의집/중국동포의집</td>\n",
              "      <td>이정혁</td>\n",
              "      <td>https://gmhr.or.kr/case/1458?page=17</td>\n",
              "    </tr>\n",
              "    <tr>\n",
              "      <th>246</th>\n",
              "      <td>급성심장질환 수술이 필요한 우크라이나 동포 치료 지원</td>\n",
              "      <td>2023-02-23</td>\n",
              "      <td>의료</td>\n",
              "      <td>안산시</td>\n",
              "      <td>기타</td>\n",
              "      <td>F-4</td>\n",
              "      <td>우크라이나에서 온 동포. 급성심장질환으로 수술(시술)해야하는데 수술비가 없다고 함</td>\n",
              "      <td>1월30일\\n00병원 원무팀 통화. 너머(고려인문화센터) 담당자와 병원비 지원가능상...</td>\n",
              "      <td></td>\n",
              "      <td></td>\n",
              "      <td>안산외국인노동자의집/중국동포의집</td>\n",
              "      <td>이정혁</td>\n",
              "      <td>https://gmhr.or.kr/case/1457?page=17</td>\n",
              "    </tr>\n",
              "    <tr>\n",
              "      <th>247</th>\n",
              "      <td>미등록이라 회사에서 산재신청 거부한 노동자의 산재인정지원</td>\n",
              "      <td>2023-02-23</td>\n",
              "      <td>산재</td>\n",
              "      <td>수원시</td>\n",
              "      <td>기타</td>\n",
              "      <td>미등록</td>\n",
              "      <td>인도국적의 이주노동자. 산재부상을 당했으나 미등록이라서 회사에서 일반공상으로 신청해...</td>\n",
              "      <td>2022년\\n11월16일\\n산재승인(안산근로복지공단)\\n\\n11월17일\\n휴업급여 ...</td>\n",
              "      <td></td>\n",
              "      <td></td>\n",
              "      <td>안산외국인노동자의집/중국동포의집</td>\n",
              "      <td>이정혁</td>\n",
              "      <td>https://gmhr.or.kr/case/1456?page=17</td>\n",
              "    </tr>\n",
              "    <tr>\n",
              "      <th>248</th>\n",
              "      <td>일자목으로 인한 통증호소하는 이주민 의료진료 지원</td>\n",
              "      <td>2023-02-23</td>\n",
              "      <td>의료</td>\n",
              "      <td>시흥시</td>\n",
              "      <td>기타</td>\n",
              "      <td>G-1</td>\n",
              "      <td>우간다 국적의 등록 이주민. 목과 허리가 아프다고 해서 병원 안내와 일자리 상담하였음.</td>\n",
              "      <td>1월21일\\n목과 허리가 많이 아프다고 해서 23. 1. 25. 2:00~2:30 ...</td>\n",
              "      <td></td>\n",
              "      <td></td>\n",
              "      <td>안산외국인노동자의집/중국동포의집</td>\n",
              "      <td>이정혁</td>\n",
              "      <td>https://gmhr.or.kr/case/1455?page=17</td>\n",
              "    </tr>\n",
              "  </tbody>\n",
              "</table>\n",
              "<p>249 rows × 13 columns</p>\n",
              "</div>"
            ],
            "text/plain": [
              "                                                제목        작성일  상담유형  거주지역  \\\n",
              "0            중도 퇴사 후 근로소득 신고되지 않아 고용허가연장 안된 노동자 지원 2023-11-27  체류자격   여주시   \n",
              "1                                 국민연금 반환일시금 신청 지원 2023-11-27    기타  남양주시   \n",
              "2    외국인아동 교육권 보장을 위한 체류자격 부여자(G-1-85) 외국인등록 절차 지원 2023-11-27  체류자격  남양주시   \n",
              "3                             단체행동을 통해 체불임금 해결한 사례 2023-11-27  임금체불   안산시   \n",
              "4                취업가능기간이 짧게 남아 취업이 어려운 노동자 구직활동 지원 2023-11-27  고용허가   시흥시   \n",
              "..                                             ...        ...   ...   ...   \n",
              "244           가슴통증과 이상 심장박동으로 치료가 필요한 노동자의 병원진료 지원 2023-02-23    의료   안산시   \n",
              "245                      중환자실 계속 입원이 어려운 환자의 전원 지원 2023-02-23    의료   시흥시   \n",
              "246                  급성심장질환 수술이 필요한 우크라이나 동포 치료 지원 2023-02-23    의료   안산시   \n",
              "247                미등록이라 회사에서 산재신청 거부한 노동자의 산재인정지원 2023-02-23    산재   수원시   \n",
              "248                    일자목으로 인한 통증호소하는 이주민 의료진료 지원 2023-02-23    의료   시흥시   \n",
              "\n",
              "         국적 체류자격                                               상담내용  \\\n",
              "0    우즈베키스탄  E-9                        중도 퇴직하는 외국인 근로자의 추가 납부세액 사례   \n",
              "1       필리핀  미등록  2023년 8월 중순 미등록체류 상황에서 본국으로 강제출국 당한 필리핀 국적의 이주...   \n",
              "2       필리핀  미등록  법무부 장기 미등록체류 이주아동 구제대책으로 23년 4월에 접수한 필리핀 국적의 아...   \n",
              "3       필리핀  E-9  사례자 안산시 한 직장에서 근무하는데, 회사에서 잔업수당 등을 상습적으로 속이고 있...   \n",
              "4       필리핀  E-9  상기 사례자는 한국 체류기간(노동가능기간)이 1년 4개월로 비교적 짧게 남아서 면접...   \n",
              "..      ...  ...                                                ...   \n",
              "244     필리핀  E-9  상기 사례자는 필리핀국적의 이주노동자로 가슴 통증을 호소하여 안산**심장내과 방문하...   \n",
              "245      중국  미등록  중국국적 미등록 이주민. 환자가 시흥 두군데 병원 들렸으나 입원이 안되서 00병원 ...   \n",
              "246      기타  F-4      우크라이나에서 온 동포. 급성심장질환으로 수술(시술)해야하는데 수술비가 없다고 함   \n",
              "247      기타  미등록  인도국적의 이주노동자. 산재부상을 당했으나 미등록이라서 회사에서 일반공상으로 신청해...   \n",
              "248      기타  G-1   우간다 국적의 등록 이주민. 목과 허리가 아프다고 해서 병원 안내와 일자리 상담하였음.   \n",
              "\n",
              "                                            진행 과정 및 결과 관련법령 및 정보 평가 및 의의  \\\n",
              "0    2023-09-18\\n- 고용노동부에서 외국인근로자의 2020년 종합소득세 체납을 ...                     \n",
              "1    11월 2일\\n1. 노동자로부터 우편으로 관련서류 수령.\\n 1) 외국인등록증 사본...                     \n",
              "2    11월 1일\\n1. 양주출입국 사범과 방문.\\n2. 담당자로부터 유전자 검사 결과 ...                     \n",
              "3    8월 14일\\n(전화상담) 회사에서 급여계산을 잘못해서 주고 야간 수당을 안주고 있...                     \n",
              "4    4월 2일\\n(내방상담) 현재 다니는 2번째 회사에도 일이 없어서 사업장변경 신청하...                     \n",
              "..                                                 ...       ...     ...   \n",
              "244  1월 6일\\n(전화상담) 심장이 가끔 쪼이는 듯이 아파서 심장내과 방문 원함. 내일...                     \n",
              "245  1월31일\\n환자가 시흥 두군데 병원 들렸으나 입원이 안되서 00병원 응급실 거쳐 ...                     \n",
              "246  1월30일\\n00병원 원무팀 통화. 너머(고려인문화센터) 담당자와 병원비 지원가능상...                     \n",
              "247  2022년\\n11월16일\\n산재승인(안산근로복지공단)\\n\\n11월17일\\n휴업급여 ...                     \n",
              "248  1월21일\\n목과 허리가 많이 아프다고 해서 23. 1. 25. 2:00~2:30 ...                     \n",
              "\n",
              "                상담지원단체  작성자                                   url  \n",
              "0           여주시외국인복지센터  이수현   https://gmhr.or.kr/case/1703?page=1  \n",
              "1          남양주시외국인복지센터  김성수   https://gmhr.or.kr/case/1702?page=1  \n",
              "2          남양주시외국인복지센터  김성수   https://gmhr.or.kr/case/1701?page=1  \n",
              "3              글로벌미션센터  최경식   https://gmhr.or.kr/case/1700?page=1  \n",
              "4              글로벌미션센터  최경식   https://gmhr.or.kr/case/1699?page=1  \n",
              "..                 ...  ...                                   ...  \n",
              "244            글로벌미션센터  최경식  https://gmhr.or.kr/case/1459?page=17  \n",
              "245  안산외국인노동자의집/중국동포의집  이정혁  https://gmhr.or.kr/case/1458?page=17  \n",
              "246  안산외국인노동자의집/중국동포의집  이정혁  https://gmhr.or.kr/case/1457?page=17  \n",
              "247  안산외국인노동자의집/중국동포의집  이정혁  https://gmhr.or.kr/case/1456?page=17  \n",
              "248  안산외국인노동자의집/중국동포의집  이정혁  https://gmhr.or.kr/case/1455?page=17  \n",
              "\n",
              "[249 rows x 13 columns]"
            ]
          },
          "execution_count": 10,
          "metadata": {},
          "output_type": "execute_result"
        }
      ],
      "source": [
        "filtered_data"
      ]
    },
    {
      "cell_type": "markdown",
      "metadata": {
        "id": "zrNUTicDMICV"
      },
      "source": [
        "# 데이터셋 생성"
      ]
    },
    {
      "cell_type": "markdown",
      "metadata": {
        "id": "TzvwsegQFj3a"
      },
      "source": [
        "저장 형식:\n",
        "\n",
        "\n",
        "\n",
        "Document (\n",
        "- 상담제목(dict) : raw_text (str), Embedding(list)\n",
        "- 상담내용요약(dict) : raw_text(str), Embedding(list)\n",
        "- 진행 과정 및 결과(str)\n",
        "- 내담자 정보(dict) : {\n",
        "거주지역(str),\n",
        "국적(str),\n",
        "체류자격(str),\n",
        "추가정보 (list): (LLM에서 추출)\n",
        "}\n",
        "- 해결방법 (str) : (LLM에서 추출)\n",
        "- metadata (dict) : {\n",
        "상담유형 (str),\n",
        "상담일시 (str)\n",
        "}\n"
      ]
    },
    {
      "cell_type": "markdown",
      "metadata": {
        "id": "nTNJVnadNPFb"
      },
      "source": [
        "## 포멧 변환"
      ]
    },
    {
      "cell_type": "markdown",
      "metadata": {
        "id": "Y2cgcdXBNuRH"
      },
      "source": [
        "제목, 내용 요약(상담내용), 진행과정 및 결과, 내담자정보, 상담유형, 상담일시"
      ]
    },
    {
      "cell_type": "code",
      "execution_count": null,
      "metadata": {
        "id": "l8jBvqrHLsgJ"
      },
      "outputs": [],
      "source": [
        "import pandas as pd\n",
        "from typing import Dict, List\n",
        "import json\n",
        "\n",
        "def transform_dataframe_to_documents(df: pd.DataFrame) -> List[Dict]:\n",
        "    \"\"\"\n",
        "    데이터프레임을 지정된 문서 형식으로 변환\n",
        "\n",
        "    Args:\n",
        "        df: 입력 데이터프레임\n",
        "\n",
        "    Returns:\n",
        "        변환된 문서 리스트\n",
        "    \"\"\"\n",
        "    documents = []\n",
        "\n",
        "    for _, row in df.iterrows():\n",
        "        document = {\n",
        "            \"상담제목\": {\n",
        "                \"raw_text\": row[\"제목\"],\n",
        "                \"Embedding\": []\n",
        "            },\n",
        "            \"상담내용요약\": {\n",
        "                \"raw_text\": row[\"상담내용\"],\n",
        "                \"Embedding\": []\n",
        "            },\n",
        "            \"진행_과정_및_결과\": row[\"진행 과정 및 결과\"],\n",
        "            \"내담자_정보\": {\n",
        "                \"거주지역\": row[\"거주지역\"],\n",
        "                \"국적\": row[\"국적\"],\n",
        "                \"체류자격\": row[\"체류자격\"],\n",
        "                \"추가정보\": []  # LLM 추출 부분 빈 리스트로 초기화\n",
        "            },\n",
        "            \"해결방법\": \"\",  # LLM 추출 부분 빈 문자열로 초기화\n",
        "            \"metadata\": {\n",
        "                \"상담유형\": row[\"상담유형\"],\n",
        "                \"상담일시\": row[\"작성일\"]\n",
        "            }\n",
        "        }\n",
        "        documents.append(document)\n",
        "\n",
        "    return documents\n"
      ]
    },
    {
      "cell_type": "markdown",
      "metadata": {},
      "source": [
        "- 상담제목 쭉 뽑기, 상담내용요약 쭉 뽑기, -> 임베딩\n",
        "- 내담자정보 -> 프롬프트 통해서 생성"
      ]
    },
    {
      "cell_type": "markdown",
      "metadata": {
        "id": "W8ab7rItvyXY"
      },
      "source": [
        "## 2023년 이후 데이터, jsonl 변환하기"
      ]
    },
    {
      "cell_type": "code",
      "execution_count": null,
      "metadata": {
        "colab": {
          "base_uri": "https://localhost:8080/"
        },
        "id": "e1dz95pXvxnG",
        "outputId": "42c50a6e-58f2-459a-bc22-41a252bbf1d8"
      },
      "outputs": [],
      "source": [
        "data.head(2)"
      ]
    },
    {
      "cell_type": "code",
      "execution_count": null,
      "metadata": {
        "colab": {
          "base_uri": "https://localhost:8080/"
        },
        "id": "Dpt-bzfIvxki",
        "outputId": "0af32812-2177-4757-df98-9ee866baedfc"
      },
      "outputs": [],
      "source": [
        "# 작성일 열을 datetime으로 변환\n",
        "data['작성일'] = pd.to_datetime(data['작성일'], format='%y-%m-%d')\n",
        "from datetime import datetime\n",
        "\n",
        "# 2023년 1월 1일 이후의 데이터만 필터링\n",
        "cutoff_date = datetime(2023, 1, 1)\n",
        "filtered_data = data[data['작성일'] >= cutoff_date]\n",
        "\n",
        "# '작성일' 컬럼을 문자열로 변환\n",
        "filtered_data['작성일'] = filtered_data['작성일'].dt.strftime('%Y-%m-%d %H:%M:%S')"
      ]
    },
    {
      "cell_type": "code",
      "execution_count": null,
      "metadata": {
        "id": "Y2ntl3lvvxh-"
      },
      "outputs": [],
      "source": [
        "# 데이터 변환\n",
        "documents = transform_dataframe_to_documents(filtered_data)"
      ]
    },
    {
      "cell_type": "code",
      "execution_count": null,
      "metadata": {
        "colab": {
          "base_uri": "https://localhost:8080/"
        },
        "id": "ZuhZpiiovxfc",
        "outputId": "a2c7fb6c-6aac-4e36-f55d-ec0b7c1cbf80"
      },
      "outputs": [],
      "source": [
        "len(documents)"
      ]
    },
    {
      "cell_type": "code",
      "execution_count": null,
      "metadata": {
        "colab": {
          "base_uri": "https://localhost:8080/"
        },
        "id": "7-6-koWuwFbI",
        "outputId": "11f28103-c356-4ed4-dc6e-39b14d614c65"
      },
      "outputs": [],
      "source": [
        "type(documents)"
      ]
    },
    {
      "cell_type": "markdown",
      "metadata": {
        "id": "KmAKJc-xwFbI"
      },
      "source": [
        "저장"
      ]
    },
    {
      "cell_type": "code",
      "execution_count": null,
      "metadata": {
        "id": "MZ07WPaMwFbJ"
      },
      "outputs": [],
      "source": [
        "# JSONL 형식으로 저장\n",
        "with open('../data/consultation_documents_filtered2023.jsonl', 'w', encoding='utf-8') as f:\n",
        "    for item in documents:  # documents는 이미 원하는 형식의 딕셔너리들의 리스트\n",
        "        f.write(json.dumps(item, ensure_ascii=False) + '\\n')"
      ]
    },
    {
      "cell_type": "markdown",
      "metadata": {
        "id": "ErKsItpIwFbJ"
      },
      "source": [
        "확인"
      ]
    },
    {
      "cell_type": "code",
      "execution_count": null,
      "metadata": {
        "colab": {
          "base_uri": "https://localhost:8080/"
        },
        "id": "bXkDEm32wFbJ",
        "outputId": "1d1782be-2220-4737-80d0-50ed43bc5e75"
      },
      "outputs": [],
      "source": [
        "# 저장된 JSONL 파일 확인\n",
        "with open('../data/consultation_documents_filtered2023.jsonl', 'r', encoding='utf-8') as f:\n",
        "    for i, line in enumerate(f):\n",
        "        if i < 2:  # 처음 두 줄만 확인\n",
        "            print(f\"Line {i+1}:\")\n",
        "            print(line.strip())\n",
        "            print()"
      ]
    },
    {
      "cell_type": "markdown",
      "metadata": {
        "id": "RJ_K0SCIxBtA"
      },
      "source": [
        "## 2022년 기준으로도 만들어놓기"
      ]
    },
    {
      "cell_type": "code",
      "execution_count": null,
      "metadata": {
        "colab": {
          "base_uri": "https://localhost:8080/",
          "height": 373
        },
        "id": "WGHZHiI4vxc4",
        "outputId": "989e485a-a910-413f-cdef-e03b47c11717"
      },
      "outputs": [],
      "source": [
        "data.tail(2)"
      ]
    },
    {
      "cell_type": "code",
      "execution_count": null,
      "metadata": {
        "colab": {
          "base_uri": "https://localhost:8080/"
        },
        "id": "1FpNs_nExFyg",
        "outputId": "f40f8600-90d6-4edf-d07c-fa922a867ff7"
      },
      "outputs": [],
      "source": [
        "# 작성일 열을 datetime으로 변환\n",
        "data['작성일'] = pd.to_datetime(data['작성일'], format='%y-%m-%d')\n",
        "from datetime import datetime\n",
        "\n",
        "# 2022년 1월 1일 이후의 데이터만 필터링\n",
        "cutoff_date = datetime(2022, 1, 1)\n",
        "filtered_data = data[data['작성일'] >= cutoff_date]\n",
        "\n",
        "# '작성일' 컬럼을 문자열로 변환\n",
        "filtered_data['작성일'] = filtered_data['작성일'].dt.strftime('%Y-%m-%d %H:%M:%S')"
      ]
    },
    {
      "cell_type": "code",
      "execution_count": null,
      "metadata": {
        "id": "3BGWaWDIxFvH"
      },
      "outputs": [],
      "source": [
        "# 데이터 변환\n",
        "documents = transform_dataframe_to_documents(filtered_data)"
      ]
    },
    {
      "cell_type": "code",
      "execution_count": null,
      "metadata": {},
      "outputs": [],
      "source": [
        "type(documents)"
      ]
    },
    {
      "cell_type": "code",
      "execution_count": null,
      "metadata": {},
      "outputs": [],
      "source": [
        "for row in documents:\n",
        "    print(row['상담제목'])"
      ]
    },
    {
      "cell_type": "code",
      "execution_count": null,
      "metadata": {
        "colab": {
          "base_uri": "https://localhost:8080/"
        },
        "id": "aWxDxTWvxFsq",
        "outputId": "29fd9c3b-b769-4131-c0df-455cde9bfcd2"
      },
      "outputs": [],
      "source": [
        "len(documents)"
      ]
    },
    {
      "cell_type": "code",
      "execution_count": null,
      "metadata": {
        "colab": {
          "base_uri": "https://localhost:8080/"
        },
        "id": "0vMrvNPNxFqA",
        "outputId": "73069891-d1bb-4567-c04c-1d7470c8d5ea"
      },
      "outputs": [],
      "source": [
        "type(documents)"
      ]
    },
    {
      "cell_type": "code",
      "execution_count": null,
      "metadata": {
        "id": "kpXnKjE7wcyA"
      },
      "outputs": [],
      "source": [
        "def save_documents_to_jsonl(documents: List[Dict], file_path: str):\n",
        "    \"\"\"\n",
        "    문서 리스트를 JSONL 파일로 저장\n",
        "\n",
        "    Args:\n",
        "        documents: 문서 딕셔너리 리스트\n",
        "        file_path: 저장할 파일 경로\n",
        "    \"\"\"\n",
        "    with open(file_path, 'w', encoding='utf-8') as f:\n",
        "        for item in documents:\n",
        "            f.write(json.dumps(item, ensure_ascii=False) + '\\n')"
      ]
    },
    {
      "cell_type": "code",
      "execution_count": null,
      "metadata": {
        "id": "VBzl0Rv6weur"
      },
      "outputs": [],
      "source": [
        "save_documents_to_jsonl(documents, '../data/consultation_documents_filtered2022.jsonl')"
      ]
    },
    {
      "cell_type": "code",
      "execution_count": null,
      "metadata": {
        "colab": {
          "base_uri": "https://localhost:8080/"
        },
        "id": "LlC3wFVjwfRc",
        "outputId": "6e87de1e-b758-45d2-f7a5-725252cda133"
      },
      "outputs": [],
      "source": [
        "import json\n",
        "from typing import List, Dict\n",
        "import pandas as pd\n",
        "\n",
        "def validate_jsonl(file_path: str, show_sample: int = 2) -> tuple:\n",
        "    \"\"\"\n",
        "    JSONL 파일을 검증하고 정보를 반환\n",
        "\n",
        "    Args:\n",
        "        file_path: JSONL 파일 경로\n",
        "        show_sample: 출력할 샘플 개수\n",
        "\n",
        "    Returns:\n",
        "        tuple: (총 라인 수, 문서 리스트)\n",
        "    \"\"\"\n",
        "    documents = []\n",
        "    line_count = 0\n",
        "\n",
        "    try:\n",
        "        with open(file_path, 'r', encoding='utf-8') as f:\n",
        "            for line in f:\n",
        "                try:\n",
        "                    doc = json.loads(line.strip())\n",
        "                    documents.append(doc)\n",
        "                    line_count += 1\n",
        "\n",
        "                    # 샘플 데이터 출력\n",
        "                    if line_count <= show_sample:\n",
        "                        print(f\"\\n=== Document {line_count} ===\")\n",
        "                        print(json.dumps(doc, ensure_ascii=False, indent=2))\n",
        "                        print(\"=\"*50)\n",
        "\n",
        "                except json.JSONDecodeError as e:\n",
        "                    print(f\"Error parsing line {line_count + 1}: {e}\")\n",
        "                    continue\n",
        "\n",
        "        print(f\"\\n총 문서 수: {line_count}\")\n",
        "\n",
        "        # 데이터 구조 검증\n",
        "        if documents:\n",
        "            print(\"\\n문서 구조 검증:\")\n",
        "            required_fields = [\n",
        "                \"상담제목\", \"상담내용요약\", \"진행_과정_및_결과\",\n",
        "                \"내담자_정보\", \"해결방법\", \"metadata\"\n",
        "            ]\n",
        "\n",
        "            for field in required_fields:\n",
        "                field_exists = all(field in doc for doc in documents)\n",
        "                print(f\"- {field}: {'✓' if field_exists else '✗'}\")\n",
        "\n",
        "        return line_count, documents\n",
        "\n",
        "    except FileNotFoundError:\n",
        "        print(f\"파일을 찾을 수 없습니다: {file_path}\")\n",
        "        return 0, []\n",
        "    except Exception as e:\n",
        "        print(f\"파일 읽기 오류: {e}\")\n",
        "        return 0, []\n",
        "\n",
        "def compare_with_dataframe(documents: List[Dict], df: pd.DataFrame):\n",
        "    \"\"\"\n",
        "    변환된 문서와 원본 데이터프레임 비교\n",
        "\n",
        "    Args:\n",
        "        documents: JSONL에서 읽은 문서 리스트\n",
        "        df: 원본 데이터프레임\n",
        "    \"\"\"\n",
        "    print(f\"\\n데이터 수 비교:\")\n",
        "    print(f\"- 데이터프레임 행 수: {len(df)}\")\n",
        "    print(f\"- JSONL 문서 수: {len(documents)}\")\n",
        "\n",
        "    if len(documents) == len(df):\n",
        "        print(\"✓ 데이터 수가 일치합니다.\")\n",
        "    else:\n",
        "        print(\"✗ 데이터 수가 일치하지 않습니다!\")\n",
        "\n",
        "# 사용 예시\n",
        "if __name__ == \"__main__\":\n",
        "    file_path = '/content/drive/MyDrive/HelloWorld/AI/data/consultation_documents_filtered2022.jsonl'\n",
        "\n",
        "    # JSONL 파일 검증\n",
        "    total_lines, documents = validate_jsonl(file_path)\n",
        "\n",
        "    # 원본 데이터프레임이 있다면 비교\n",
        "    # df = pd.read_csv('original_data.csv')  # 원본 데이터프레임 로드\n",
        "    # compare_with_dataframe(documents, df)\n",
        "\n",
        "    # 추가 정보 출력\n",
        "    if documents:\n",
        "        print(\"\\n첫 번째 문서의 키:\")\n",
        "        first_doc = documents[0]\n",
        "        for key, value in first_doc.items():\n",
        "            if isinstance(value, dict):\n",
        "                print(f\"- {key}: {list(value.keys())}\")\n",
        "            else:\n",
        "                print(f\"- {key}: {type(value).__name__}\")"
      ]
    },
    {
      "cell_type": "code",
      "execution_count": null,
      "metadata": {
        "id": "2h86IrPXxSDD"
      },
      "outputs": [],
      "source": [
        "# JSONL 형식으로 저장\n",
        "with open('/content/drive/MyDrive/HelloWorld/AI/data/consultation_documents_filtered2022.jsonl', 'w', encoding='utf-8') as f:\n",
        "    for item in documents:  # documents는 이미 원하는 형식의 딕셔너리들의 리스트\n",
        "        f.write(json.dumps(item, ensure_ascii=False) + '\\n')"
      ]
    },
    {
      "cell_type": "markdown",
      "metadata": {
        "id": "FzMlYKYjxSDE"
      },
      "source": [
        "확인"
      ]
    },
    {
      "cell_type": "code",
      "execution_count": null,
      "metadata": {
        "colab": {
          "base_uri": "https://localhost:8080/"
        },
        "id": "mwa5hWFNxSDE",
        "outputId": "687bc84d-f625-438b-f02c-6402306f5ad6"
      },
      "outputs": [],
      "source": [
        "# 저장된 JSONL 파일 확인\n",
        "with open('/content/drive/MyDrive/HelloWorld/AI/data/consultation_documents_filtered2022.jsonl', 'r', encoding='utf-8') as f:\n",
        "    for i, line in enumerate(f):\n",
        "        if i < 2:  # 처음 두 줄만 확인\n",
        "            print(f\"Line {i+1}:\")\n",
        "            print(line.strip())\n",
        "            print()"
      ]
    },
    {
      "cell_type": "markdown",
      "metadata": {},
      "source": [
        "# Embedding 추가 구축"
      ]
    },
    {
      "cell_type": "code",
      "execution_count": 5,
      "metadata": {},
      "outputs": [
        {
          "data": {
            "text/html": [
              "<div>\n",
              "<style scoped>\n",
              "    .dataframe tbody tr th:only-of-type {\n",
              "        vertical-align: middle;\n",
              "    }\n",
              "\n",
              "    .dataframe tbody tr th {\n",
              "        vertical-align: top;\n",
              "    }\n",
              "\n",
              "    .dataframe thead th {\n",
              "        text-align: right;\n",
              "    }\n",
              "</style>\n",
              "<table border=\"1\" class=\"dataframe\">\n",
              "  <thead>\n",
              "    <tr style=\"text-align: right;\">\n",
              "      <th></th>\n",
              "      <th>제목</th>\n",
              "      <th>작성일</th>\n",
              "      <th>상담유형</th>\n",
              "      <th>거주지역</th>\n",
              "      <th>국적</th>\n",
              "      <th>체류자격</th>\n",
              "      <th>상담내용</th>\n",
              "      <th>진행 과정 및 결과</th>\n",
              "      <th>관련법령 및 정보</th>\n",
              "      <th>평가 및 의의</th>\n",
              "      <th>상담지원단체</th>\n",
              "      <th>작성자</th>\n",
              "      <th>url</th>\n",
              "    </tr>\n",
              "  </thead>\n",
              "  <tbody>\n",
              "    <tr>\n",
              "      <th>0</th>\n",
              "      <td>중도 퇴사 후 근로소득 신고되지 않아 고용허가연장 안된 노동자 지원</td>\n",
              "      <td>2023-11-27</td>\n",
              "      <td>체류자격</td>\n",
              "      <td>여주시</td>\n",
              "      <td>우즈베키스탄</td>\n",
              "      <td>E-9</td>\n",
              "      <td>중도 퇴직하는 외국인 근로자의 추가 납부세액 사례</td>\n",
              "      <td>2023-09-18\\n- 고용노동부에서 외국인근로자의 2020년 종합소득세 체납을 ...</td>\n",
              "      <td></td>\n",
              "      <td></td>\n",
              "      <td>여주시외국인복지센터</td>\n",
              "      <td>이수현</td>\n",
              "      <td>https://gmhr.or.kr/case/1703?page=1</td>\n",
              "    </tr>\n",
              "    <tr>\n",
              "      <th>1</th>\n",
              "      <td>국민연금 반환일시금 신청 지원</td>\n",
              "      <td>2023-11-27</td>\n",
              "      <td>기타</td>\n",
              "      <td>남양주시</td>\n",
              "      <td>필리핀</td>\n",
              "      <td>미등록</td>\n",
              "      <td>2023년 8월 중순 미등록체류 상황에서 본국으로 강제출국 당한 필리핀 국적의 이주...</td>\n",
              "      <td>11월 2일\\n1. 노동자로부터 우편으로 관련서류 수령.\\n 1) 외국인등록증 사본...</td>\n",
              "      <td></td>\n",
              "      <td></td>\n",
              "      <td>남양주시외국인복지센터</td>\n",
              "      <td>김성수</td>\n",
              "      <td>https://gmhr.or.kr/case/1702?page=1</td>\n",
              "    </tr>\n",
              "    <tr>\n",
              "      <th>2</th>\n",
              "      <td>외국인아동 교육권 보장을 위한 체류자격 부여자(G-1-85) 외국인등록 절차 지원</td>\n",
              "      <td>2023-11-27</td>\n",
              "      <td>체류자격</td>\n",
              "      <td>남양주시</td>\n",
              "      <td>필리핀</td>\n",
              "      <td>미등록</td>\n",
              "      <td>법무부 장기 미등록체류 이주아동 구제대책으로 23년 4월에 접수한 필리핀 국적의 아...</td>\n",
              "      <td>11월 1일\\n1. 양주출입국 사범과 방문.\\n2. 담당자로부터 유전자 검사 결과 ...</td>\n",
              "      <td></td>\n",
              "      <td></td>\n",
              "      <td>남양주시외국인복지센터</td>\n",
              "      <td>김성수</td>\n",
              "      <td>https://gmhr.or.kr/case/1701?page=1</td>\n",
              "    </tr>\n",
              "    <tr>\n",
              "      <th>3</th>\n",
              "      <td>단체행동을 통해 체불임금 해결한 사례</td>\n",
              "      <td>2023-11-27</td>\n",
              "      <td>임금체불</td>\n",
              "      <td>안산시</td>\n",
              "      <td>필리핀</td>\n",
              "      <td>E-9</td>\n",
              "      <td>사례자 안산시 한 직장에서 근무하는데, 회사에서 잔업수당 등을 상습적으로 속이고 있...</td>\n",
              "      <td>8월 14일\\n(전화상담) 회사에서 급여계산을 잘못해서 주고 야간 수당을 안주고 있...</td>\n",
              "      <td></td>\n",
              "      <td></td>\n",
              "      <td>글로벌미션센터</td>\n",
              "      <td>최경식</td>\n",
              "      <td>https://gmhr.or.kr/case/1700?page=1</td>\n",
              "    </tr>\n",
              "    <tr>\n",
              "      <th>4</th>\n",
              "      <td>취업가능기간이 짧게 남아 취업이 어려운 노동자 구직활동 지원</td>\n",
              "      <td>2023-11-27</td>\n",
              "      <td>고용허가</td>\n",
              "      <td>시흥시</td>\n",
              "      <td>필리핀</td>\n",
              "      <td>E-9</td>\n",
              "      <td>상기 사례자는 한국 체류기간(노동가능기간)이 1년 4개월로 비교적 짧게 남아서 면접...</td>\n",
              "      <td>4월 2일\\n(내방상담) 현재 다니는 2번째 회사에도 일이 없어서 사업장변경 신청하...</td>\n",
              "      <td></td>\n",
              "      <td></td>\n",
              "      <td>글로벌미션센터</td>\n",
              "      <td>최경식</td>\n",
              "      <td>https://gmhr.or.kr/case/1699?page=1</td>\n",
              "    </tr>\n",
              "  </tbody>\n",
              "</table>\n",
              "</div>"
            ],
            "text/plain": [
              "                                              제목        작성일  상담유형  거주지역  \\\n",
              "0          중도 퇴사 후 근로소득 신고되지 않아 고용허가연장 안된 노동자 지원 2023-11-27  체류자격   여주시   \n",
              "1                               국민연금 반환일시금 신청 지원 2023-11-27    기타  남양주시   \n",
              "2  외국인아동 교육권 보장을 위한 체류자격 부여자(G-1-85) 외국인등록 절차 지원 2023-11-27  체류자격  남양주시   \n",
              "3                           단체행동을 통해 체불임금 해결한 사례 2023-11-27  임금체불   안산시   \n",
              "4              취업가능기간이 짧게 남아 취업이 어려운 노동자 구직활동 지원 2023-11-27  고용허가   시흥시   \n",
              "\n",
              "       국적 체류자격                                               상담내용  \\\n",
              "0  우즈베키스탄  E-9                        중도 퇴직하는 외국인 근로자의 추가 납부세액 사례   \n",
              "1     필리핀  미등록  2023년 8월 중순 미등록체류 상황에서 본국으로 강제출국 당한 필리핀 국적의 이주...   \n",
              "2     필리핀  미등록  법무부 장기 미등록체류 이주아동 구제대책으로 23년 4월에 접수한 필리핀 국적의 아...   \n",
              "3     필리핀  E-9  사례자 안산시 한 직장에서 근무하는데, 회사에서 잔업수당 등을 상습적으로 속이고 있...   \n",
              "4     필리핀  E-9  상기 사례자는 한국 체류기간(노동가능기간)이 1년 4개월로 비교적 짧게 남아서 면접...   \n",
              "\n",
              "                                          진행 과정 및 결과 관련법령 및 정보 평가 및 의의  \\\n",
              "0  2023-09-18\\n- 고용노동부에서 외국인근로자의 2020년 종합소득세 체납을 ...                     \n",
              "1  11월 2일\\n1. 노동자로부터 우편으로 관련서류 수령.\\n 1) 외국인등록증 사본...                     \n",
              "2  11월 1일\\n1. 양주출입국 사범과 방문.\\n2. 담당자로부터 유전자 검사 결과 ...                     \n",
              "3  8월 14일\\n(전화상담) 회사에서 급여계산을 잘못해서 주고 야간 수당을 안주고 있...                     \n",
              "4  4월 2일\\n(내방상담) 현재 다니는 2번째 회사에도 일이 없어서 사업장변경 신청하...                     \n",
              "\n",
              "        상담지원단체  작성자                                  url  \n",
              "0   여주시외국인복지센터  이수현  https://gmhr.or.kr/case/1703?page=1  \n",
              "1  남양주시외국인복지센터  김성수  https://gmhr.or.kr/case/1702?page=1  \n",
              "2  남양주시외국인복지센터  김성수  https://gmhr.or.kr/case/1701?page=1  \n",
              "3      글로벌미션센터  최경식  https://gmhr.or.kr/case/1700?page=1  \n",
              "4      글로벌미션센터  최경식  https://gmhr.or.kr/case/1699?page=1  "
            ]
          },
          "execution_count": 5,
          "metadata": {},
          "output_type": "execute_result"
        }
      ],
      "source": [
        "filtered_data.head()"
      ]
    },
    {
      "cell_type": "code",
      "execution_count": 6,
      "metadata": {},
      "outputs": [
        {
          "name": "stdout",
          "output_type": "stream",
          "text": [
            "## config loaded ##\n",
            "## client loaded ##\n"
          ]
        }
      ],
      "source": [
        "from utils import BatchClient\n",
        "batch_client = BatchClient(config_path=\"../configs/config.json\")"
      ]
    },
    {
      "cell_type": "code",
      "execution_count": 7,
      "metadata": {},
      "outputs": [],
      "source": [
        "FILE_YEAR = \"2023\""
      ]
    },
    {
      "cell_type": "code",
      "execution_count": 8,
      "metadata": {},
      "outputs": [
        {
          "data": {
            "text/plain": [
              "Index(['제목', '작성일', '상담유형', '거주지역', '국적', '체류자격', '상담내용', '진행 과정 및 결과',\n",
              "       '관련법령 및 정보', '평가 및 의의', '상담지원단체', '작성자', 'url'],\n",
              "      dtype='object')"
            ]
          },
          "execution_count": 8,
          "metadata": {},
          "output_type": "execute_result"
        }
      ],
      "source": [
        "filtered_data.columns"
      ]
    },
    {
      "cell_type": "code",
      "execution_count": null,
      "metadata": {},
      "outputs": [],
      "source": [
        "metadata = batch_client.make_embedding(df=filtered_data,\n",
        "                                      column_name=\"상담제목\",\n",
        "                                      batch_jsonl_path=f\"../data/batch_jsonl/input/consultation_documents_{FILE_YEAR}_상담제목_batch.jsonl\",\n",
        "                                      meta_path=f\"../data/meta_csv/consultation_documents_{FILE_YEAR}_meta.csv\")\n",
        "\n",
        "request_id =  metadata.id\n",
        "print('## request_id : ', request_id)"
      ]
    },
    {
      "cell_type": "code",
      "execution_count": null,
      "metadata": {},
      "outputs": [],
      "source": [
        "# embedding batch 처리\n",
        "import time\n",
        "\n",
        "while True:\n",
        "    status = batch_client.get_batch_status(batch_id=metadata.id)\n",
        "    print('## current status : ', status.status)\n",
        "\n",
        "    if status.status == \"completed\":\n",
        "        output_file_id = status.output_file_id\n",
        "        print(f'## batch completed!\\noutput file id : {output_file_id}')\n",
        "        break\n",
        "\n",
        "    else:\n",
        "        print('## Wait untill completed...')\n",
        "        time.sleep(60)\n",
        "\n",
        "batch_client.get_batch_answer(output_file_id=output_file_id, result_path=f\"../data/batch_jsonl/output/consultation_documents_{FILE_YEAR}_상담제목_batch.jsonl\")"
      ]
    },
    {
      "cell_type": "code",
      "execution_count": 9,
      "metadata": {},
      "outputs": [
        {
          "name": "stdout",
          "output_type": "stream",
          "text": [
            "<class 'str'> {'상담제목': {'raw_text': '중도 퇴사 후 근로소득 신고되지 않아 고용허가연장 안된 노동자 지원', 'Embedding': []}, '상담내용요약': {'raw_text': '중도 퇴직하는 외국인 근로자의 추가 납부세액 사례', 'Embedding': []}, '진행_과정_및_결과': '2023-09-18\\n- 고용노동부에서 외국인근로자의 2020년 종합소득세 체납을   확인하여 고용허가제 연장 불가능 안내받았음 \\n 회사 담당자하고 여주세무서에 방문 및 체납된 세금의 원인 상담 내용을 통역 요청으로 전화 상담 \\n타행송금; 자동차세-7.360원, 2021년 주민세-11,330원, 2022년 주민세-11,330원, 2022년 지방세 44,630원, 2022년 소득세 – 476,590원, 2021년 지방세 173,140원, \\n공과금 2020년 1,808,950원 안내 통역함\\n\\n2020-09-20\\n- 2021년에 연말정산 신청하여 469,520원 환급받았음 \\n- 체류자격 연장을 위해서 합계 2,533,330원을 납부함 \\n공과금 납부 내용을 상담하러 이천세무서에 동시 통역 가능한지 문의로 전화 상담 \\n10월 21일 오전 10시에 이천세무서에 방문 예정 안내함\\n\\n2023-09-21\\n- 이천세무서 3층 소득세과에 방문 상담 내용 통번역 함\\n- 1,808,000원 2020년도의 체납 안내: \\n외국인근로자의 2020년에 중도에 퇴직후에 근로소득 신고하지 않아서 추가 체납 확인 \\n* 근로자가 중도에 퇴직하는 경우 원천징수의무자(회사)는 퇴직하는 달의 근로소득을 지급하는 때에 근로소득 세액을 징수함.\\n * 따라서, 중도 퇴직하는 근로자의 경우 퇴직하는 달의 급여를 받기 전 회사에 근로소득자의 소득·세액공제신고서와 증빙서류를 제출하여야 함  \\n* 관련 법령: 소득세법 제137조 내용 안내 통역 \\n\\n2023-09-27\\n - 체류지원 문의로 전화 상담 \\n- 고용허가제 연장 확인함 \\n- 11월 22일에 출입국사무소 방문예약함 \\n- 외국인등록증은 10월 16일 만료 예정 \\n- 회사 담당자가 바쁘셔서 출입국사무소에 방문 예약 기간에 갈 수 있다고 함 \\n- 출입국사무소에 10월 16일 이후에 방문하면 문제가 생기지 않는지 문의로 전화\\n*문의에 대한 답\\n- 외국인노동자는 고용허가 받은 후에 출입국사무소에서도 인정함 안내\\n- 고용허가 발급 후에 고용주 없이 외국인노동자는 출입국사무소에 방문 가능 안내\\n민원실에서 내담자가 신청 중임 확인 안내 통번역 완료 \\n\\n2023-10-11\\n - 타 기관 의뢰: 통번역 요청으로 A 회사에 이동 상담 \\n외국인노동자는 10월 11일까지 체류자격 연장이 되지 않아서 고용주와 외국인노동자 간의 대화 내용 통번역: \\n- 고용허가는 2025년 8월까지 연장 확인 \\n- 23.09.13 출입국사무소에 체류자격 연장 신청함 \\n- 종합소득 신고를 안 해서 체납 납부했음 \\n- 23.10.15 체류자격 만료 예정이지만 법무부에서 결과를 기다려야 함 \\n- 만약 법무부에서 체류자격 연장 불가능한다면 소송 진행 가능함 안내를 통번역함\\n\\n2023.11.02\\n -  외국인노동자부터 전화 상담 \\n - 외국인 체류자격 연장 완료 확인 \\n - 사회통합프로그램 사전평가 신청 요청 \\n - 사회통합프로그램 사전평가 신청 도왔음 \\n - 사전평가 시험 기간 안내하여 상담을 종료함', '내담자_정보': {'거주지역': '여주시', '국적': '우즈베키스탄', '체류자격': 'E-9', '추가정보': []}, '해결방법': '', 'metadata': {'상담유형': '체류자격', '상담일시': Timestamp('2023-11-27 00:00:00')}}\n"
          ]
        },
        {
          "ename": "JSONDecodeError",
          "evalue": "Expecting property name enclosed in double quotes: line 1 column 2 (char 1)",
          "output_type": "error",
          "traceback": [
            "\u001b[0;31m---------------------------------------------------------------------------\u001b[0m",
            "\u001b[0;31mJSONDecodeError\u001b[0m                           Traceback (most recent call last)",
            "Cell \u001b[0;32mIn[9], line 1\u001b[0m\n\u001b[0;32m----> 1\u001b[0m \u001b[43mbatch_client\u001b[49m\u001b[38;5;241;43m.\u001b[39;49m\u001b[43mget_data\u001b[49m\u001b[43m(\u001b[49m\u001b[43mgpt_answer_path\u001b[49m\u001b[38;5;241;43m=\u001b[39;49m\u001b[38;5;124;43m\"\u001b[39;49m\u001b[38;5;124;43m/Users/hwang-yewon/HelloWorld-AI/data/batch_jsonl/output/consultation_documents_2023_상담제목_batch.jsonl\u001b[39;49m\u001b[38;5;124;43m\"\u001b[39;49m\u001b[43m,\u001b[49m\n\u001b[1;32m      2\u001b[0m \u001b[43m                      \u001b[49m\u001b[43mmeta_path\u001b[49m\u001b[38;5;241;43m=\u001b[39;49m\u001b[38;5;124;43m\"\u001b[39;49m\u001b[38;5;124;43m/Users/hwang-yewon/HelloWorld-AI/data/meta_csv/consultation_documents_2023_meta.csv\u001b[39;49m\u001b[38;5;124;43m\"\u001b[39;49m\u001b[43m,\u001b[49m\n\u001b[1;32m      3\u001b[0m \u001b[43m                      \u001b[49m\u001b[43mresult_jsonl_path\u001b[49m\u001b[38;5;241;43m=\u001b[39;49m\u001b[38;5;124;43m\"\u001b[39;49m\u001b[38;5;124;43m/Users/hwang-yewon/HelloWorld-AI/data/batch_jsonl/output/consultation_documents_2023_batch.jsonl\u001b[39;49m\u001b[38;5;124;43m\"\u001b[39;49m\u001b[43m,\u001b[49m\n\u001b[1;32m      4\u001b[0m \u001b[43m                      \u001b[49m\u001b[43mreturn_type\u001b[49m\u001b[43m \u001b[49m\u001b[38;5;241;43m=\u001b[39;49m\u001b[43m \u001b[49m\u001b[38;5;124;43m\"\u001b[39;49m\u001b[38;5;124;43membedding\u001b[39;49m\u001b[38;5;124;43m\"\u001b[39;49m\u001b[43m,\u001b[49m\n\u001b[1;32m      5\u001b[0m \u001b[43m                      \u001b[49m\u001b[43mcolumn_name\u001b[49m\u001b[38;5;241;43m=\u001b[39;49m\u001b[38;5;124;43m\"\u001b[39;49m\u001b[38;5;124;43m상담제목\u001b[39;49m\u001b[38;5;124;43m\"\u001b[39;49m\n\u001b[1;32m      6\u001b[0m \u001b[43m)\u001b[49m\n",
            "File \u001b[0;32m~/HelloWorld-AI/data/utils.py:298\u001b[0m, in \u001b[0;36mBatchClient.get_data\u001b[0;34m(self, gpt_answer_path, meta_path, result_jsonl_path, return_type, column_name)\u001b[0m\n\u001b[1;32m    296\u001b[0m metadata \u001b[38;5;241m=\u001b[39m metadata_csv\u001b[38;5;241m.\u001b[39mloc[metadata_csv[\u001b[38;5;124m\"\u001b[39m\u001b[38;5;124mrequest_id\u001b[39m\u001b[38;5;124m\"\u001b[39m] \u001b[38;5;241m==\u001b[39m request[\u001b[38;5;124m\"\u001b[39m\u001b[38;5;124mcustom_id\u001b[39m\u001b[38;5;124m\"\u001b[39m], \u001b[38;5;124m\"\u001b[39m\u001b[38;5;124mmetadata\u001b[39m\u001b[38;5;124m\"\u001b[39m]\n\u001b[1;32m    297\u001b[0m \u001b[38;5;28mprint\u001b[39m(\u001b[38;5;28mtype\u001b[39m(metadata[\u001b[38;5;241m0\u001b[39m]), metadata[\u001b[38;5;241m0\u001b[39m])\n\u001b[0;32m--> 298\u001b[0m metadata \u001b[38;5;241m=\u001b[39m \u001b[43mjson\u001b[49m\u001b[38;5;241;43m.\u001b[39;49m\u001b[43mloads\u001b[49m\u001b[43m(\u001b[49m\u001b[43mmetadata\u001b[49m\u001b[43m[\u001b[49m\u001b[38;5;241;43m0\u001b[39;49m\u001b[43m]\u001b[49m\u001b[43m)\u001b[49m\n\u001b[1;32m    300\u001b[0m \u001b[38;5;28;01mtry\u001b[39;00m:\n\u001b[1;32m    301\u001b[0m     data[idx][column_name][\u001b[38;5;124m\"\u001b[39m\u001b[38;5;124mEmbedding\u001b[39m\u001b[38;5;124m\"\u001b[39m] \u001b[38;5;241m=\u001b[39m embedding\n",
            "File \u001b[0;32m~/miniconda3/envs/hello/lib/python3.11/json/__init__.py:346\u001b[0m, in \u001b[0;36mloads\u001b[0;34m(s, cls, object_hook, parse_float, parse_int, parse_constant, object_pairs_hook, **kw)\u001b[0m\n\u001b[1;32m    341\u001b[0m     s \u001b[38;5;241m=\u001b[39m s\u001b[38;5;241m.\u001b[39mdecode(detect_encoding(s), \u001b[38;5;124m'\u001b[39m\u001b[38;5;124msurrogatepass\u001b[39m\u001b[38;5;124m'\u001b[39m)\n\u001b[1;32m    343\u001b[0m \u001b[38;5;28;01mif\u001b[39;00m (\u001b[38;5;28mcls\u001b[39m \u001b[38;5;129;01mis\u001b[39;00m \u001b[38;5;28;01mNone\u001b[39;00m \u001b[38;5;129;01mand\u001b[39;00m object_hook \u001b[38;5;129;01mis\u001b[39;00m \u001b[38;5;28;01mNone\u001b[39;00m \u001b[38;5;129;01mand\u001b[39;00m\n\u001b[1;32m    344\u001b[0m         parse_int \u001b[38;5;129;01mis\u001b[39;00m \u001b[38;5;28;01mNone\u001b[39;00m \u001b[38;5;129;01mand\u001b[39;00m parse_float \u001b[38;5;129;01mis\u001b[39;00m \u001b[38;5;28;01mNone\u001b[39;00m \u001b[38;5;129;01mand\u001b[39;00m\n\u001b[1;32m    345\u001b[0m         parse_constant \u001b[38;5;129;01mis\u001b[39;00m \u001b[38;5;28;01mNone\u001b[39;00m \u001b[38;5;129;01mand\u001b[39;00m object_pairs_hook \u001b[38;5;129;01mis\u001b[39;00m \u001b[38;5;28;01mNone\u001b[39;00m \u001b[38;5;129;01mand\u001b[39;00m \u001b[38;5;129;01mnot\u001b[39;00m kw):\n\u001b[0;32m--> 346\u001b[0m     \u001b[38;5;28;01mreturn\u001b[39;00m \u001b[43m_default_decoder\u001b[49m\u001b[38;5;241;43m.\u001b[39;49m\u001b[43mdecode\u001b[49m\u001b[43m(\u001b[49m\u001b[43ms\u001b[49m\u001b[43m)\u001b[49m\n\u001b[1;32m    347\u001b[0m \u001b[38;5;28;01mif\u001b[39;00m \u001b[38;5;28mcls\u001b[39m \u001b[38;5;129;01mis\u001b[39;00m \u001b[38;5;28;01mNone\u001b[39;00m:\n\u001b[1;32m    348\u001b[0m     \u001b[38;5;28mcls\u001b[39m \u001b[38;5;241m=\u001b[39m JSONDecoder\n",
            "File \u001b[0;32m~/miniconda3/envs/hello/lib/python3.11/json/decoder.py:337\u001b[0m, in \u001b[0;36mJSONDecoder.decode\u001b[0;34m(self, s, _w)\u001b[0m\n\u001b[1;32m    332\u001b[0m \u001b[38;5;28;01mdef\u001b[39;00m \u001b[38;5;21mdecode\u001b[39m(\u001b[38;5;28mself\u001b[39m, s, _w\u001b[38;5;241m=\u001b[39mWHITESPACE\u001b[38;5;241m.\u001b[39mmatch):\n\u001b[1;32m    333\u001b[0m \u001b[38;5;250m    \u001b[39m\u001b[38;5;124;03m\"\"\"Return the Python representation of ``s`` (a ``str`` instance\u001b[39;00m\n\u001b[1;32m    334\u001b[0m \u001b[38;5;124;03m    containing a JSON document).\u001b[39;00m\n\u001b[1;32m    335\u001b[0m \n\u001b[1;32m    336\u001b[0m \u001b[38;5;124;03m    \"\"\"\u001b[39;00m\n\u001b[0;32m--> 337\u001b[0m     obj, end \u001b[38;5;241m=\u001b[39m \u001b[38;5;28;43mself\u001b[39;49m\u001b[38;5;241;43m.\u001b[39;49m\u001b[43mraw_decode\u001b[49m\u001b[43m(\u001b[49m\u001b[43ms\u001b[49m\u001b[43m,\u001b[49m\u001b[43m \u001b[49m\u001b[43midx\u001b[49m\u001b[38;5;241;43m=\u001b[39;49m\u001b[43m_w\u001b[49m\u001b[43m(\u001b[49m\u001b[43ms\u001b[49m\u001b[43m,\u001b[49m\u001b[43m \u001b[49m\u001b[38;5;241;43m0\u001b[39;49m\u001b[43m)\u001b[49m\u001b[38;5;241;43m.\u001b[39;49m\u001b[43mend\u001b[49m\u001b[43m(\u001b[49m\u001b[43m)\u001b[49m\u001b[43m)\u001b[49m\n\u001b[1;32m    338\u001b[0m     end \u001b[38;5;241m=\u001b[39m _w(s, end)\u001b[38;5;241m.\u001b[39mend()\n\u001b[1;32m    339\u001b[0m     \u001b[38;5;28;01mif\u001b[39;00m end \u001b[38;5;241m!=\u001b[39m \u001b[38;5;28mlen\u001b[39m(s):\n",
            "File \u001b[0;32m~/miniconda3/envs/hello/lib/python3.11/json/decoder.py:353\u001b[0m, in \u001b[0;36mJSONDecoder.raw_decode\u001b[0;34m(self, s, idx)\u001b[0m\n\u001b[1;32m    344\u001b[0m \u001b[38;5;250m\u001b[39m\u001b[38;5;124;03m\"\"\"Decode a JSON document from ``s`` (a ``str`` beginning with\u001b[39;00m\n\u001b[1;32m    345\u001b[0m \u001b[38;5;124;03ma JSON document) and return a 2-tuple of the Python\u001b[39;00m\n\u001b[1;32m    346\u001b[0m \u001b[38;5;124;03mrepresentation and the index in ``s`` where the document ended.\u001b[39;00m\n\u001b[0;32m   (...)\u001b[0m\n\u001b[1;32m    350\u001b[0m \n\u001b[1;32m    351\u001b[0m \u001b[38;5;124;03m\"\"\"\u001b[39;00m\n\u001b[1;32m    352\u001b[0m \u001b[38;5;28;01mtry\u001b[39;00m:\n\u001b[0;32m--> 353\u001b[0m     obj, end \u001b[38;5;241m=\u001b[39m \u001b[38;5;28;43mself\u001b[39;49m\u001b[38;5;241;43m.\u001b[39;49m\u001b[43mscan_once\u001b[49m\u001b[43m(\u001b[49m\u001b[43ms\u001b[49m\u001b[43m,\u001b[49m\u001b[43m \u001b[49m\u001b[43midx\u001b[49m\u001b[43m)\u001b[49m\n\u001b[1;32m    354\u001b[0m \u001b[38;5;28;01mexcept\u001b[39;00m \u001b[38;5;167;01mStopIteration\u001b[39;00m \u001b[38;5;28;01mas\u001b[39;00m err:\n\u001b[1;32m    355\u001b[0m     \u001b[38;5;28;01mraise\u001b[39;00m JSONDecodeError(\u001b[38;5;124m\"\u001b[39m\u001b[38;5;124mExpecting value\u001b[39m\u001b[38;5;124m\"\u001b[39m, s, err\u001b[38;5;241m.\u001b[39mvalue) \u001b[38;5;28;01mfrom\u001b[39;00m \u001b[38;5;28;01mNone\u001b[39;00m\n",
            "\u001b[0;31mJSONDecodeError\u001b[0m: Expecting property name enclosed in double quotes: line 1 column 2 (char 1)"
          ]
        }
      ],
      "source": [
        "batch_client.get_data(gpt_answer_path=\"/Users/hwang-yewon/HelloWorld-AI/data/batch_jsonl/output/consultation_documents_2023_상담제목_batch.jsonl\",\n",
        "                      meta_path=\"/Users/hwang-yewon/HelloWorld-AI/data/meta_csv/consultation_documents_2023_meta.csv\",\n",
        "                      result_jsonl_path=\"/Users/hwang-yewon/HelloWorld-AI/data/batch_jsonl/output/consultation_documents_2023_batch.jsonl\",\n",
        "                      return_type = \"embedding\",\n",
        "                      column_name=\"상담제목\"\n",
        ")"
      ]
    },
    {
      "cell_type": "code",
      "execution_count": null,
      "metadata": {},
      "outputs": [],
      "source": [
        "metadata = batch_client.make_generate(df=filtered_data,\n",
        "                                      prompt_path=\"../prompts/generate_prompt.json\",\n",
        "                                      batch_jsonl_path=f\"../data/batch_jsonl/input/consultation_documents_{FILE_YEAR}_batch.jsonl\",\n",
        "                                      meta_path=f\"../data/meta_csv/consultation_documents_{FILE_YEAR}_meta.csv\")\n",
        "input_file_id =  metadata['input_file_id']\n",
        "print('## input file id : ', input_file_id)\n",
        "\n",
        "# while True:\n",
        "#     status = BatchClient.get_batch_status(input_file_id)\n",
        "#     print('## current status : ', status.status)\n",
        "\n",
        "#     if status.status == \"completed\":\n",
        "#         output_file_id = status.output_file_id\n",
        "#         print(f'## batch completed!\\noutput file id : {output_file_id}')\n",
        "#         break\n",
        "\n",
        "#     else:\n",
        "#         print('## Wait untill completed...')\n",
        "#         time.sleep(60)\n",
        "\n",
        "# BatchClient.get_batch_answer(output_file_id=input_file_id, result_path=f\"../data/batch_jsonl/output/consultation_documents_{FILE_YEAR}_batch.jsonl\")\n"
      ]
    },
    {
      "cell_type": "code",
      "execution_count": null,
      "metadata": {},
      "outputs": [],
      "source": []
    },
    {
      "cell_type": "code",
      "execution_count": null,
      "metadata": {},
      "outputs": [],
      "source": []
    }
  ],
  "metadata": {
    "colab": {
      "provenance": [],
      "toc_visible": true
    },
    "kernelspec": {
      "display_name": "Python 3",
      "name": "python3"
    },
    "language_info": {
      "codemirror_mode": {
        "name": "ipython",
        "version": 3
      },
      "file_extension": ".py",
      "mimetype": "text/x-python",
      "name": "python",
      "nbconvert_exporter": "python",
      "pygments_lexer": "ipython3",
      "version": "3.11.9"
    }
  },
  "nbformat": 4,
  "nbformat_minor": 0
}
