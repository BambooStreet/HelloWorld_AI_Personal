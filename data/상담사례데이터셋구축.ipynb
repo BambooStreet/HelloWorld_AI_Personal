{
  "cells": [
    {
      "cell_type": "markdown",
      "metadata": {
        "id": "RnzV19dILPKK"
      },
      "source": [
        "# 데이터"
      ]
    },
    {
      "cell_type": "markdown",
      "metadata": {
        "id": "3fIw5ckeK7MI"
      },
      "source": [
        "### 데이터셋 불러오기"
      ]
    },
    {
      "cell_type": "code",
      "execution_count": null,
      "metadata": {
        "colab": {
          "base_uri": "https://localhost:8080/"
        },
        "id": "A2Mzaf22KWKx",
        "outputId": "5c2e03f3-3153-437e-a51a-3e4193a2d4ee"
      },
      "outputs": [],
      "source": [
        "# from google.colab import drive\n",
        "# drive.mount('/content/drive')"
      ]
    },
    {
      "cell_type": "code",
      "execution_count": 1,
      "metadata": {
        "id": "0QERwEELKlk6"
      },
      "outputs": [
        {
          "data": {
            "text/html": [
              "<div>\n",
              "<style scoped>\n",
              "    .dataframe tbody tr th:only-of-type {\n",
              "        vertical-align: middle;\n",
              "    }\n",
              "\n",
              "    .dataframe tbody tr th {\n",
              "        vertical-align: top;\n",
              "    }\n",
              "\n",
              "    .dataframe thead th {\n",
              "        text-align: right;\n",
              "    }\n",
              "</style>\n",
              "<table border=\"1\" class=\"dataframe\">\n",
              "  <thead>\n",
              "    <tr style=\"text-align: right;\">\n",
              "      <th></th>\n",
              "      <th>제목</th>\n",
              "      <th>작성일</th>\n",
              "      <th>상담유형</th>\n",
              "      <th>거주지역</th>\n",
              "      <th>국적</th>\n",
              "      <th>체류자격</th>\n",
              "      <th>상담내용</th>\n",
              "      <th>진행 과정 및 결과</th>\n",
              "      <th>관련법령 및 정보</th>\n",
              "      <th>평가 및 의의</th>\n",
              "      <th>상담지원단체</th>\n",
              "      <th>작성자</th>\n",
              "      <th>url</th>\n",
              "    </tr>\n",
              "  </thead>\n",
              "  <tbody>\n",
              "    <tr>\n",
              "      <th>0</th>\n",
              "      <td>중도 퇴사 후 근로소득 신고되지 않아 고용허가연장 안된 노동자 지원</td>\n",
              "      <td>23-11-27</td>\n",
              "      <td>체류자격</td>\n",
              "      <td>여주시</td>\n",
              "      <td>우즈베키스탄</td>\n",
              "      <td>E-9</td>\n",
              "      <td>중도 퇴직하는 외국인 근로자의 추가 납부세액 사례</td>\n",
              "      <td>2023-09-18\\n- 고용노동부에서 외국인근로자의 2020년 종합소득세 체납을 ...</td>\n",
              "      <td></td>\n",
              "      <td></td>\n",
              "      <td>여주시외국인복지센터</td>\n",
              "      <td>이수현</td>\n",
              "      <td>https://gmhr.or.kr/case/1703?page=1</td>\n",
              "    </tr>\n",
              "    <tr>\n",
              "      <th>1</th>\n",
              "      <td>국민연금 반환일시금 신청 지원</td>\n",
              "      <td>23-11-27</td>\n",
              "      <td>기타</td>\n",
              "      <td>남양주시</td>\n",
              "      <td>필리핀</td>\n",
              "      <td>미등록</td>\n",
              "      <td>2023년 8월 중순 미등록체류 상황에서 본국으로 강제출국 당한 필리핀 국적의 이주...</td>\n",
              "      <td>11월 2일\\n1. 노동자로부터 우편으로 관련서류 수령.\\n 1) 외국인등록증 사본...</td>\n",
              "      <td></td>\n",
              "      <td></td>\n",
              "      <td>남양주시외국인복지센터</td>\n",
              "      <td>김성수</td>\n",
              "      <td>https://gmhr.or.kr/case/1702?page=1</td>\n",
              "    </tr>\n",
              "    <tr>\n",
              "      <th>2</th>\n",
              "      <td>외국인아동 교육권 보장을 위한 체류자격 부여자(G-1-85) 외국인등록 절차 지원</td>\n",
              "      <td>23-11-27</td>\n",
              "      <td>체류자격</td>\n",
              "      <td>남양주시</td>\n",
              "      <td>필리핀</td>\n",
              "      <td>미등록</td>\n",
              "      <td>법무부 장기 미등록체류 이주아동 구제대책으로 23년 4월에 접수한 필리핀 국적의 아...</td>\n",
              "      <td>11월 1일\\n1. 양주출입국 사범과 방문.\\n2. 담당자로부터 유전자 검사 결과 ...</td>\n",
              "      <td></td>\n",
              "      <td></td>\n",
              "      <td>남양주시외국인복지센터</td>\n",
              "      <td>김성수</td>\n",
              "      <td>https://gmhr.or.kr/case/1701?page=1</td>\n",
              "    </tr>\n",
              "    <tr>\n",
              "      <th>3</th>\n",
              "      <td>단체행동을 통해 체불임금 해결한 사례</td>\n",
              "      <td>23-11-27</td>\n",
              "      <td>임금체불</td>\n",
              "      <td>안산시</td>\n",
              "      <td>필리핀</td>\n",
              "      <td>E-9</td>\n",
              "      <td>사례자 안산시 한 직장에서 근무하는데, 회사에서 잔업수당 등을 상습적으로 속이고 있...</td>\n",
              "      <td>8월 14일\\n(전화상담) 회사에서 급여계산을 잘못해서 주고 야간 수당을 안주고 있...</td>\n",
              "      <td></td>\n",
              "      <td></td>\n",
              "      <td>글로벌미션센터</td>\n",
              "      <td>최경식</td>\n",
              "      <td>https://gmhr.or.kr/case/1700?page=1</td>\n",
              "    </tr>\n",
              "    <tr>\n",
              "      <th>4</th>\n",
              "      <td>취업가능기간이 짧게 남아 취업이 어려운 노동자 구직활동 지원</td>\n",
              "      <td>23-11-27</td>\n",
              "      <td>고용허가</td>\n",
              "      <td>시흥시</td>\n",
              "      <td>필리핀</td>\n",
              "      <td>E-9</td>\n",
              "      <td>상기 사례자는 한국 체류기간(노동가능기간)이 1년 4개월로 비교적 짧게 남아서 면접...</td>\n",
              "      <td>4월 2일\\n(내방상담) 현재 다니는 2번째 회사에도 일이 없어서 사업장변경 신청하...</td>\n",
              "      <td></td>\n",
              "      <td></td>\n",
              "      <td>글로벌미션센터</td>\n",
              "      <td>최경식</td>\n",
              "      <td>https://gmhr.or.kr/case/1699?page=1</td>\n",
              "    </tr>\n",
              "  </tbody>\n",
              "</table>\n",
              "</div>"
            ],
            "text/plain": [
              "                                              제목       작성일  상담유형  거주지역  \\\n",
              "0          중도 퇴사 후 근로소득 신고되지 않아 고용허가연장 안된 노동자 지원  23-11-27  체류자격   여주시   \n",
              "1                               국민연금 반환일시금 신청 지원  23-11-27    기타  남양주시   \n",
              "2  외국인아동 교육권 보장을 위한 체류자격 부여자(G-1-85) 외국인등록 절차 지원  23-11-27  체류자격  남양주시   \n",
              "3                           단체행동을 통해 체불임금 해결한 사례  23-11-27  임금체불   안산시   \n",
              "4              취업가능기간이 짧게 남아 취업이 어려운 노동자 구직활동 지원  23-11-27  고용허가   시흥시   \n",
              "\n",
              "       국적 체류자격                                               상담내용  \\\n",
              "0  우즈베키스탄  E-9                        중도 퇴직하는 외국인 근로자의 추가 납부세액 사례   \n",
              "1     필리핀  미등록  2023년 8월 중순 미등록체류 상황에서 본국으로 강제출국 당한 필리핀 국적의 이주...   \n",
              "2     필리핀  미등록  법무부 장기 미등록체류 이주아동 구제대책으로 23년 4월에 접수한 필리핀 국적의 아...   \n",
              "3     필리핀  E-9  사례자 안산시 한 직장에서 근무하는데, 회사에서 잔업수당 등을 상습적으로 속이고 있...   \n",
              "4     필리핀  E-9  상기 사례자는 한국 체류기간(노동가능기간)이 1년 4개월로 비교적 짧게 남아서 면접...   \n",
              "\n",
              "                                          진행 과정 및 결과 관련법령 및 정보 평가 및 의의  \\\n",
              "0  2023-09-18\\n- 고용노동부에서 외국인근로자의 2020년 종합소득세 체납을 ...                     \n",
              "1  11월 2일\\n1. 노동자로부터 우편으로 관련서류 수령.\\n 1) 외국인등록증 사본...                     \n",
              "2  11월 1일\\n1. 양주출입국 사범과 방문.\\n2. 담당자로부터 유전자 검사 결과 ...                     \n",
              "3  8월 14일\\n(전화상담) 회사에서 급여계산을 잘못해서 주고 야간 수당을 안주고 있...                     \n",
              "4  4월 2일\\n(내방상담) 현재 다니는 2번째 회사에도 일이 없어서 사업장변경 신청하...                     \n",
              "\n",
              "        상담지원단체  작성자                                  url  \n",
              "0   여주시외국인복지센터  이수현  https://gmhr.or.kr/case/1703?page=1  \n",
              "1  남양주시외국인복지센터  김성수  https://gmhr.or.kr/case/1702?page=1  \n",
              "2  남양주시외국인복지센터  김성수  https://gmhr.or.kr/case/1701?page=1  \n",
              "3      글로벌미션센터  최경식  https://gmhr.or.kr/case/1700?page=1  \n",
              "4      글로벌미션센터  최경식  https://gmhr.or.kr/case/1699?page=1  "
            ]
          },
          "execution_count": 1,
          "metadata": {},
          "output_type": "execute_result"
        }
      ],
      "source": [
        "import pandas as pd\n",
        "data = pd.read_json('../data/raw_data/Web/경기도외국인지원센터_상담사례.json')\n",
        "data.head()"
      ]
    },
    {
      "cell_type": "code",
      "execution_count": 2,
      "metadata": {},
      "outputs": [
        {
          "data": {
            "text/plain": [
              "(1700, 13)"
            ]
          },
          "execution_count": 2,
          "metadata": {},
          "output_type": "execute_result"
        }
      ],
      "source": [
        "data.shape"
      ]
    },
    {
      "cell_type": "markdown",
      "metadata": {
        "id": "VCTX_ianLLbI"
      },
      "source": [
        "### 2023년 이후의 사례만"
      ]
    },
    {
      "cell_type": "code",
      "execution_count": 3,
      "metadata": {
        "id": "TAvdVkc2K6Al"
      },
      "outputs": [],
      "source": [
        "# 작성일 열을 datetime으로 변환\n",
        "data['작성일'] = pd.to_datetime(data['작성일'], format='%y-%m-%d')"
      ]
    },
    {
      "cell_type": "code",
      "execution_count": 4,
      "metadata": {
        "id": "T1BwjVVALGs-"
      },
      "outputs": [],
      "source": [
        "from datetime import datetime\n",
        "\n",
        "# 2023년 1월 1일 이후의 데이터만 필터링\n",
        "cutoff_date = datetime(2023, 1, 1)\n",
        "filtered_data = data[data['작성일'] >= cutoff_date]"
      ]
    },
    {
      "cell_type": "markdown",
      "metadata": {
        "id": "zrNUTicDMICV"
      },
      "source": [
        "# 데이터셋 생성"
      ]
    },
    {
      "cell_type": "markdown",
      "metadata": {
        "id": "TzvwsegQFj3a"
      },
      "source": [
        "저장 형식:\n",
        "\n",
        "\n",
        "\n",
        "Document (\n",
        "- 상담제목(dict) : raw_text (str), Embedding(list)\n",
        "- 상담내용요약(dict) : raw_text(str), Embedding(list)\n",
        "- 진행 과정 및 결과(str)\n",
        "- 내담자 정보(dict) : {\n",
        "거주지역(str),\n",
        "국적(str),\n",
        "체류자격(str),\n",
        "추가정보 (list): (LLM에서 추출)\n",
        "}\n",
        "- 해결방법 (str) : (LLM에서 추출)\n",
        "- metadata (dict) : {\n",
        "상담유형 (str),\n",
        "상담일시 (str)\n",
        "}\n"
      ]
    },
    {
      "cell_type": "markdown",
      "metadata": {
        "id": "nTNJVnadNPFb"
      },
      "source": [
        "## 포멧 변환"
      ]
    },
    {
      "cell_type": "markdown",
      "metadata": {
        "id": "Y2cgcdXBNuRH"
      },
      "source": [
        "제목, 내용 요약(상담내용), 진행과정 및 결과, 내담자정보, 상담유형, 상담일시"
      ]
    },
    {
      "cell_type": "code",
      "execution_count": null,
      "metadata": {
        "id": "l8jBvqrHLsgJ"
      },
      "outputs": [],
      "source": [
        "import pandas as pd\n",
        "from typing import Dict, List\n",
        "import json\n",
        "\n",
        "def transform_dataframe_to_documents(df: pd.DataFrame) -> List[Dict]:\n",
        "    \"\"\"\n",
        "    데이터프레임을 지정된 문서 형식으로 변환\n",
        "\n",
        "    Args:\n",
        "        df: 입력 데이터프레임\n",
        "\n",
        "    Returns:\n",
        "        변환된 문서 리스트\n",
        "    \"\"\"\n",
        "    documents = []\n",
        "\n",
        "    for _, row in df.iterrows():\n",
        "        document = {\n",
        "            \"상담제목\": {\n",
        "                \"raw_text\": row[\"제목\"],\n",
        "                \"Embedding\": []\n",
        "            },\n",
        "            \"상담내용요약\": {\n",
        "                \"raw_text\": row[\"상담내용\"],\n",
        "                \"Embedding\": []\n",
        "            },\n",
        "            \"진행_과정_및_결과\": row[\"진행 과정 및 결과\"],\n",
        "            \"내담자_정보\": {\n",
        "                \"거주지역\": row[\"거주지역\"],\n",
        "                \"국적\": row[\"국적\"],\n",
        "                \"체류자격\": row[\"체류자격\"],\n",
        "                \"추가정보\": []  # LLM 추출 부분 빈 리스트로 초기화\n",
        "            },\n",
        "            \"해결방법\": \"\",  # LLM 추출 부분 빈 문자열로 초기화\n",
        "            \"metadata\": {\n",
        "                \"상담유형\": row[\"상담유형\"],\n",
        "                \"상담일시\": row[\"작성일\"]\n",
        "            }\n",
        "        }\n",
        "        documents.append(document)\n",
        "\n",
        "    return documents\n"
      ]
    },
    {
      "cell_type": "markdown",
      "metadata": {},
      "source": [
        "- 상담제목 쭉 뽑기, 상담내용요약 쭉 뽑기, -> 임베딩\n",
        "- 내담자정보 -> 프롬프트 통해서 생성"
      ]
    },
    {
      "cell_type": "markdown",
      "metadata": {
        "id": "W8ab7rItvyXY"
      },
      "source": [
        "## 2023년 이후 데이터, jsonl 변환하기"
      ]
    },
    {
      "cell_type": "code",
      "execution_count": null,
      "metadata": {
        "colab": {
          "base_uri": "https://localhost:8080/"
        },
        "id": "e1dz95pXvxnG",
        "outputId": "42c50a6e-58f2-459a-bc22-41a252bbf1d8"
      },
      "outputs": [],
      "source": [
        "data.head(2)"
      ]
    },
    {
      "cell_type": "code",
      "execution_count": null,
      "metadata": {
        "colab": {
          "base_uri": "https://localhost:8080/"
        },
        "id": "Dpt-bzfIvxki",
        "outputId": "0af32812-2177-4757-df98-9ee866baedfc"
      },
      "outputs": [],
      "source": [
        "# 작성일 열을 datetime으로 변환\n",
        "data['작성일'] = pd.to_datetime(data['작성일'], format='%y-%m-%d')\n",
        "from datetime import datetime\n",
        "\n",
        "# 2023년 1월 1일 이후의 데이터만 필터링\n",
        "cutoff_date = datetime(2023, 1, 1)\n",
        "filtered_data = data[data['작성일'] >= cutoff_date]\n",
        "\n",
        "# '작성일' 컬럼을 문자열로 변환\n",
        "filtered_data['작성일'] = filtered_data['작성일'].dt.strftime('%Y-%m-%d %H:%M:%S')"
      ]
    },
    {
      "cell_type": "code",
      "execution_count": null,
      "metadata": {
        "id": "Y2ntl3lvvxh-"
      },
      "outputs": [],
      "source": [
        "# 데이터 변환\n",
        "documents = transform_dataframe_to_documents(filtered_data)"
      ]
    },
    {
      "cell_type": "code",
      "execution_count": null,
      "metadata": {
        "colab": {
          "base_uri": "https://localhost:8080/"
        },
        "id": "ZuhZpiiovxfc",
        "outputId": "a2c7fb6c-6aac-4e36-f55d-ec0b7c1cbf80"
      },
      "outputs": [],
      "source": [
        "len(documents)"
      ]
    },
    {
      "cell_type": "code",
      "execution_count": null,
      "metadata": {
        "colab": {
          "base_uri": "https://localhost:8080/"
        },
        "id": "7-6-koWuwFbI",
        "outputId": "11f28103-c356-4ed4-dc6e-39b14d614c65"
      },
      "outputs": [],
      "source": [
        "type(documents)"
      ]
    },
    {
      "cell_type": "markdown",
      "metadata": {
        "id": "KmAKJc-xwFbI"
      },
      "source": [
        "저장"
      ]
    },
    {
      "cell_type": "code",
      "execution_count": null,
      "metadata": {
        "id": "MZ07WPaMwFbJ"
      },
      "outputs": [],
      "source": [
        "# JSONL 형식으로 저장\n",
        "with open('../data/consultation_documents_filtered2023.jsonl', 'w', encoding='utf-8') as f:\n",
        "    for item in documents:  # documents는 이미 원하는 형식의 딕셔너리들의 리스트\n",
        "        f.write(json.dumps(item, ensure_ascii=False) + '\\n')"
      ]
    },
    {
      "cell_type": "markdown",
      "metadata": {
        "id": "ErKsItpIwFbJ"
      },
      "source": [
        "확인"
      ]
    },
    {
      "cell_type": "code",
      "execution_count": null,
      "metadata": {
        "colab": {
          "base_uri": "https://localhost:8080/"
        },
        "id": "bXkDEm32wFbJ",
        "outputId": "1d1782be-2220-4737-80d0-50ed43bc5e75"
      },
      "outputs": [],
      "source": [
        "# 저장된 JSONL 파일 확인\n",
        "with open('../data/consultation_documents_filtered2023.jsonl', 'r', encoding='utf-8') as f:\n",
        "    for i, line in enumerate(f):\n",
        "        if i < 2:  # 처음 두 줄만 확인\n",
        "            print(f\"Line {i+1}:\")\n",
        "            print(line.strip())\n",
        "            print()"
      ]
    },
    {
      "cell_type": "markdown",
      "metadata": {
        "id": "RJ_K0SCIxBtA"
      },
      "source": [
        "## 2022년 기준으로도 만들어놓기"
      ]
    },
    {
      "cell_type": "code",
      "execution_count": null,
      "metadata": {
        "colab": {
          "base_uri": "https://localhost:8080/",
          "height": 373
        },
        "id": "WGHZHiI4vxc4",
        "outputId": "989e485a-a910-413f-cdef-e03b47c11717"
      },
      "outputs": [],
      "source": [
        "data.tail(2)"
      ]
    },
    {
      "cell_type": "code",
      "execution_count": null,
      "metadata": {
        "colab": {
          "base_uri": "https://localhost:8080/"
        },
        "id": "1FpNs_nExFyg",
        "outputId": "f40f8600-90d6-4edf-d07c-fa922a867ff7"
      },
      "outputs": [],
      "source": [
        "# 작성일 열을 datetime으로 변환\n",
        "data['작성일'] = pd.to_datetime(data['작성일'], format='%y-%m-%d')\n",
        "from datetime import datetime\n",
        "\n",
        "# 2022년 1월 1일 이후의 데이터만 필터링\n",
        "cutoff_date = datetime(2022, 1, 1)\n",
        "filtered_data = data[data['작성일'] >= cutoff_date]\n",
        "\n",
        "# '작성일' 컬럼을 문자열로 변환\n",
        "filtered_data['작성일'] = filtered_data['작성일'].dt.strftime('%Y-%m-%d %H:%M:%S')"
      ]
    },
    {
      "cell_type": "code",
      "execution_count": null,
      "metadata": {
        "id": "3BGWaWDIxFvH"
      },
      "outputs": [],
      "source": [
        "# 데이터 변환\n",
        "documents = transform_dataframe_to_documents(filtered_data)"
      ]
    },
    {
      "cell_type": "code",
      "execution_count": null,
      "metadata": {},
      "outputs": [],
      "source": [
        "type(documents)"
      ]
    },
    {
      "cell_type": "code",
      "execution_count": null,
      "metadata": {},
      "outputs": [],
      "source": [
        "for row in documents:\n",
        "    print(row['상담제목'])"
      ]
    },
    {
      "cell_type": "code",
      "execution_count": null,
      "metadata": {
        "colab": {
          "base_uri": "https://localhost:8080/"
        },
        "id": "aWxDxTWvxFsq",
        "outputId": "29fd9c3b-b769-4131-c0df-455cde9bfcd2"
      },
      "outputs": [],
      "source": [
        "len(documents)"
      ]
    },
    {
      "cell_type": "code",
      "execution_count": null,
      "metadata": {
        "colab": {
          "base_uri": "https://localhost:8080/"
        },
        "id": "0vMrvNPNxFqA",
        "outputId": "73069891-d1bb-4567-c04c-1d7470c8d5ea"
      },
      "outputs": [],
      "source": [
        "type(documents)"
      ]
    },
    {
      "cell_type": "code",
      "execution_count": null,
      "metadata": {
        "id": "kpXnKjE7wcyA"
      },
      "outputs": [],
      "source": [
        "def save_documents_to_jsonl(documents: List[Dict], file_path: str):\n",
        "    \"\"\"\n",
        "    문서 리스트를 JSONL 파일로 저장\n",
        "\n",
        "    Args:\n",
        "        documents: 문서 딕셔너리 리스트\n",
        "        file_path: 저장할 파일 경로\n",
        "    \"\"\"\n",
        "    with open(file_path, 'w', encoding='utf-8') as f:\n",
        "        for item in documents:\n",
        "            f.write(json.dumps(item, ensure_ascii=False) + '\\n')"
      ]
    },
    {
      "cell_type": "code",
      "execution_count": null,
      "metadata": {
        "id": "VBzl0Rv6weur"
      },
      "outputs": [],
      "source": [
        "save_documents_to_jsonl(documents, '../data/consultation_documents_filtered2022.jsonl')"
      ]
    },
    {
      "cell_type": "code",
      "execution_count": null,
      "metadata": {
        "colab": {
          "base_uri": "https://localhost:8080/"
        },
        "id": "LlC3wFVjwfRc",
        "outputId": "6e87de1e-b758-45d2-f7a5-725252cda133"
      },
      "outputs": [],
      "source": [
        "import json\n",
        "from typing import List, Dict\n",
        "import pandas as pd\n",
        "\n",
        "def validate_jsonl(file_path: str, show_sample: int = 2) -> tuple:\n",
        "    \"\"\"\n",
        "    JSONL 파일을 검증하고 정보를 반환\n",
        "\n",
        "    Args:\n",
        "        file_path: JSONL 파일 경로\n",
        "        show_sample: 출력할 샘플 개수\n",
        "\n",
        "    Returns:\n",
        "        tuple: (총 라인 수, 문서 리스트)\n",
        "    \"\"\"\n",
        "    documents = []\n",
        "    line_count = 0\n",
        "\n",
        "    try:\n",
        "        with open(file_path, 'r', encoding='utf-8') as f:\n",
        "            for line in f:\n",
        "                try:\n",
        "                    doc = json.loads(line.strip())\n",
        "                    documents.append(doc)\n",
        "                    line_count += 1\n",
        "\n",
        "                    # 샘플 데이터 출력\n",
        "                    if line_count <= show_sample:\n",
        "                        print(f\"\\n=== Document {line_count} ===\")\n",
        "                        print(json.dumps(doc, ensure_ascii=False, indent=2))\n",
        "                        print(\"=\"*50)\n",
        "\n",
        "                except json.JSONDecodeError as e:\n",
        "                    print(f\"Error parsing line {line_count + 1}: {e}\")\n",
        "                    continue\n",
        "\n",
        "        print(f\"\\n총 문서 수: {line_count}\")\n",
        "\n",
        "        # 데이터 구조 검증\n",
        "        if documents:\n",
        "            print(\"\\n문서 구조 검증:\")\n",
        "            required_fields = [\n",
        "                \"상담제목\", \"상담내용요약\", \"진행_과정_및_결과\",\n",
        "                \"내담자_정보\", \"해결방법\", \"metadata\"\n",
        "            ]\n",
        "\n",
        "            for field in required_fields:\n",
        "                field_exists = all(field in doc for doc in documents)\n",
        "                print(f\"- {field}: {'✓' if field_exists else '✗'}\")\n",
        "\n",
        "        return line_count, documents\n",
        "\n",
        "    except FileNotFoundError:\n",
        "        print(f\"파일을 찾을 수 없습니다: {file_path}\")\n",
        "        return 0, []\n",
        "    except Exception as e:\n",
        "        print(f\"파일 읽기 오류: {e}\")\n",
        "        return 0, []\n",
        "\n",
        "def compare_with_dataframe(documents: List[Dict], df: pd.DataFrame):\n",
        "    \"\"\"\n",
        "    변환된 문서와 원본 데이터프레임 비교\n",
        "\n",
        "    Args:\n",
        "        documents: JSONL에서 읽은 문서 리스트\n",
        "        df: 원본 데이터프레임\n",
        "    \"\"\"\n",
        "    print(f\"\\n데이터 수 비교:\")\n",
        "    print(f\"- 데이터프레임 행 수: {len(df)}\")\n",
        "    print(f\"- JSONL 문서 수: {len(documents)}\")\n",
        "\n",
        "    if len(documents) == len(df):\n",
        "        print(\"✓ 데이터 수가 일치합니다.\")\n",
        "    else:\n",
        "        print(\"✗ 데이터 수가 일치하지 않습니다!\")\n",
        "\n",
        "# 사용 예시\n",
        "if __name__ == \"__main__\":\n",
        "    file_path = '/content/drive/MyDrive/HelloWorld/AI/data/consultation_documents_filtered2022.jsonl'\n",
        "\n",
        "    # JSONL 파일 검증\n",
        "    total_lines, documents = validate_jsonl(file_path)\n",
        "\n",
        "    # 원본 데이터프레임이 있다면 비교\n",
        "    # df = pd.read_csv('original_data.csv')  # 원본 데이터프레임 로드\n",
        "    # compare_with_dataframe(documents, df)\n",
        "\n",
        "    # 추가 정보 출력\n",
        "    if documents:\n",
        "        print(\"\\n첫 번째 문서의 키:\")\n",
        "        first_doc = documents[0]\n",
        "        for key, value in first_doc.items():\n",
        "            if isinstance(value, dict):\n",
        "                print(f\"- {key}: {list(value.keys())}\")\n",
        "            else:\n",
        "                print(f\"- {key}: {type(value).__name__}\")"
      ]
    },
    {
      "cell_type": "code",
      "execution_count": null,
      "metadata": {
        "id": "2h86IrPXxSDD"
      },
      "outputs": [],
      "source": [
        "# JSONL 형식으로 저장\n",
        "with open('/content/drive/MyDrive/HelloWorld/AI/data/consultation_documents_filtered2022.jsonl', 'w', encoding='utf-8') as f:\n",
        "    for item in documents:  # documents는 이미 원하는 형식의 딕셔너리들의 리스트\n",
        "        f.write(json.dumps(item, ensure_ascii=False) + '\\n')"
      ]
    },
    {
      "cell_type": "markdown",
      "metadata": {
        "id": "FzMlYKYjxSDE"
      },
      "source": [
        "확인"
      ]
    },
    {
      "cell_type": "code",
      "execution_count": null,
      "metadata": {
        "colab": {
          "base_uri": "https://localhost:8080/"
        },
        "id": "mwa5hWFNxSDE",
        "outputId": "687bc84d-f625-438b-f02c-6402306f5ad6"
      },
      "outputs": [],
      "source": [
        "# 저장된 JSONL 파일 확인\n",
        "with open('/content/drive/MyDrive/HelloWorld/AI/data/consultation_documents_filtered2022.jsonl', 'r', encoding='utf-8') as f:\n",
        "    for i, line in enumerate(f):\n",
        "        if i < 2:  # 처음 두 줄만 확인\n",
        "            print(f\"Line {i+1}:\")\n",
        "            print(line.strip())\n",
        "            print()"
      ]
    },
    {
      "cell_type": "markdown",
      "metadata": {},
      "source": [
        "# Embedding 추가 구축"
      ]
    },
    {
      "cell_type": "code",
      "execution_count": 5,
      "metadata": {},
      "outputs": [
        {
          "data": {
            "text/html": [
              "<div>\n",
              "<style scoped>\n",
              "    .dataframe tbody tr th:only-of-type {\n",
              "        vertical-align: middle;\n",
              "    }\n",
              "\n",
              "    .dataframe tbody tr th {\n",
              "        vertical-align: top;\n",
              "    }\n",
              "\n",
              "    .dataframe thead th {\n",
              "        text-align: right;\n",
              "    }\n",
              "</style>\n",
              "<table border=\"1\" class=\"dataframe\">\n",
              "  <thead>\n",
              "    <tr style=\"text-align: right;\">\n",
              "      <th></th>\n",
              "      <th>제목</th>\n",
              "      <th>작성일</th>\n",
              "      <th>상담유형</th>\n",
              "      <th>거주지역</th>\n",
              "      <th>국적</th>\n",
              "      <th>체류자격</th>\n",
              "      <th>상담내용</th>\n",
              "      <th>진행 과정 및 결과</th>\n",
              "      <th>관련법령 및 정보</th>\n",
              "      <th>평가 및 의의</th>\n",
              "      <th>상담지원단체</th>\n",
              "      <th>작성자</th>\n",
              "      <th>url</th>\n",
              "    </tr>\n",
              "  </thead>\n",
              "  <tbody>\n",
              "    <tr>\n",
              "      <th>0</th>\n",
              "      <td>중도 퇴사 후 근로소득 신고되지 않아 고용허가연장 안된 노동자 지원</td>\n",
              "      <td>2023-11-27</td>\n",
              "      <td>체류자격</td>\n",
              "      <td>여주시</td>\n",
              "      <td>우즈베키스탄</td>\n",
              "      <td>E-9</td>\n",
              "      <td>중도 퇴직하는 외국인 근로자의 추가 납부세액 사례</td>\n",
              "      <td>2023-09-18\\n- 고용노동부에서 외국인근로자의 2020년 종합소득세 체납을 ...</td>\n",
              "      <td></td>\n",
              "      <td></td>\n",
              "      <td>여주시외국인복지센터</td>\n",
              "      <td>이수현</td>\n",
              "      <td>https://gmhr.or.kr/case/1703?page=1</td>\n",
              "    </tr>\n",
              "    <tr>\n",
              "      <th>1</th>\n",
              "      <td>국민연금 반환일시금 신청 지원</td>\n",
              "      <td>2023-11-27</td>\n",
              "      <td>기타</td>\n",
              "      <td>남양주시</td>\n",
              "      <td>필리핀</td>\n",
              "      <td>미등록</td>\n",
              "      <td>2023년 8월 중순 미등록체류 상황에서 본국으로 강제출국 당한 필리핀 국적의 이주...</td>\n",
              "      <td>11월 2일\\n1. 노동자로부터 우편으로 관련서류 수령.\\n 1) 외국인등록증 사본...</td>\n",
              "      <td></td>\n",
              "      <td></td>\n",
              "      <td>남양주시외국인복지센터</td>\n",
              "      <td>김성수</td>\n",
              "      <td>https://gmhr.or.kr/case/1702?page=1</td>\n",
              "    </tr>\n",
              "    <tr>\n",
              "      <th>2</th>\n",
              "      <td>외국인아동 교육권 보장을 위한 체류자격 부여자(G-1-85) 외국인등록 절차 지원</td>\n",
              "      <td>2023-11-27</td>\n",
              "      <td>체류자격</td>\n",
              "      <td>남양주시</td>\n",
              "      <td>필리핀</td>\n",
              "      <td>미등록</td>\n",
              "      <td>법무부 장기 미등록체류 이주아동 구제대책으로 23년 4월에 접수한 필리핀 국적의 아...</td>\n",
              "      <td>11월 1일\\n1. 양주출입국 사범과 방문.\\n2. 담당자로부터 유전자 검사 결과 ...</td>\n",
              "      <td></td>\n",
              "      <td></td>\n",
              "      <td>남양주시외국인복지센터</td>\n",
              "      <td>김성수</td>\n",
              "      <td>https://gmhr.or.kr/case/1701?page=1</td>\n",
              "    </tr>\n",
              "    <tr>\n",
              "      <th>3</th>\n",
              "      <td>단체행동을 통해 체불임금 해결한 사례</td>\n",
              "      <td>2023-11-27</td>\n",
              "      <td>임금체불</td>\n",
              "      <td>안산시</td>\n",
              "      <td>필리핀</td>\n",
              "      <td>E-9</td>\n",
              "      <td>사례자 안산시 한 직장에서 근무하는데, 회사에서 잔업수당 등을 상습적으로 속이고 있...</td>\n",
              "      <td>8월 14일\\n(전화상담) 회사에서 급여계산을 잘못해서 주고 야간 수당을 안주고 있...</td>\n",
              "      <td></td>\n",
              "      <td></td>\n",
              "      <td>글로벌미션센터</td>\n",
              "      <td>최경식</td>\n",
              "      <td>https://gmhr.or.kr/case/1700?page=1</td>\n",
              "    </tr>\n",
              "    <tr>\n",
              "      <th>4</th>\n",
              "      <td>취업가능기간이 짧게 남아 취업이 어려운 노동자 구직활동 지원</td>\n",
              "      <td>2023-11-27</td>\n",
              "      <td>고용허가</td>\n",
              "      <td>시흥시</td>\n",
              "      <td>필리핀</td>\n",
              "      <td>E-9</td>\n",
              "      <td>상기 사례자는 한국 체류기간(노동가능기간)이 1년 4개월로 비교적 짧게 남아서 면접...</td>\n",
              "      <td>4월 2일\\n(내방상담) 현재 다니는 2번째 회사에도 일이 없어서 사업장변경 신청하...</td>\n",
              "      <td></td>\n",
              "      <td></td>\n",
              "      <td>글로벌미션센터</td>\n",
              "      <td>최경식</td>\n",
              "      <td>https://gmhr.or.kr/case/1699?page=1</td>\n",
              "    </tr>\n",
              "  </tbody>\n",
              "</table>\n",
              "</div>"
            ],
            "text/plain": [
              "                                              제목        작성일  상담유형  거주지역  \\\n",
              "0          중도 퇴사 후 근로소득 신고되지 않아 고용허가연장 안된 노동자 지원 2023-11-27  체류자격   여주시   \n",
              "1                               국민연금 반환일시금 신청 지원 2023-11-27    기타  남양주시   \n",
              "2  외국인아동 교육권 보장을 위한 체류자격 부여자(G-1-85) 외국인등록 절차 지원 2023-11-27  체류자격  남양주시   \n",
              "3                           단체행동을 통해 체불임금 해결한 사례 2023-11-27  임금체불   안산시   \n",
              "4              취업가능기간이 짧게 남아 취업이 어려운 노동자 구직활동 지원 2023-11-27  고용허가   시흥시   \n",
              "\n",
              "       국적 체류자격                                               상담내용  \\\n",
              "0  우즈베키스탄  E-9                        중도 퇴직하는 외국인 근로자의 추가 납부세액 사례   \n",
              "1     필리핀  미등록  2023년 8월 중순 미등록체류 상황에서 본국으로 강제출국 당한 필리핀 국적의 이주...   \n",
              "2     필리핀  미등록  법무부 장기 미등록체류 이주아동 구제대책으로 23년 4월에 접수한 필리핀 국적의 아...   \n",
              "3     필리핀  E-9  사례자 안산시 한 직장에서 근무하는데, 회사에서 잔업수당 등을 상습적으로 속이고 있...   \n",
              "4     필리핀  E-9  상기 사례자는 한국 체류기간(노동가능기간)이 1년 4개월로 비교적 짧게 남아서 면접...   \n",
              "\n",
              "                                          진행 과정 및 결과 관련법령 및 정보 평가 및 의의  \\\n",
              "0  2023-09-18\\n- 고용노동부에서 외국인근로자의 2020년 종합소득세 체납을 ...                     \n",
              "1  11월 2일\\n1. 노동자로부터 우편으로 관련서류 수령.\\n 1) 외국인등록증 사본...                     \n",
              "2  11월 1일\\n1. 양주출입국 사범과 방문.\\n2. 담당자로부터 유전자 검사 결과 ...                     \n",
              "3  8월 14일\\n(전화상담) 회사에서 급여계산을 잘못해서 주고 야간 수당을 안주고 있...                     \n",
              "4  4월 2일\\n(내방상담) 현재 다니는 2번째 회사에도 일이 없어서 사업장변경 신청하...                     \n",
              "\n",
              "        상담지원단체  작성자                                  url  \n",
              "0   여주시외국인복지센터  이수현  https://gmhr.or.kr/case/1703?page=1  \n",
              "1  남양주시외국인복지센터  김성수  https://gmhr.or.kr/case/1702?page=1  \n",
              "2  남양주시외국인복지센터  김성수  https://gmhr.or.kr/case/1701?page=1  \n",
              "3      글로벌미션센터  최경식  https://gmhr.or.kr/case/1700?page=1  \n",
              "4      글로벌미션센터  최경식  https://gmhr.or.kr/case/1699?page=1  "
            ]
          },
          "execution_count": 5,
          "metadata": {},
          "output_type": "execute_result"
        }
      ],
      "source": [
        "filtered_data.head()"
      ]
    },
    {
      "cell_type": "code",
      "execution_count": 6,
      "metadata": {},
      "outputs": [
        {
          "name": "stdout",
          "output_type": "stream",
          "text": [
            "## config loaded ##\n",
            "## client loaded ##\n"
          ]
        }
      ],
      "source": [
        "from utils import BatchClient\n",
        "batch_client = BatchClient(config_path=\"../configs/config.json\")"
      ]
    },
    {
      "cell_type": "code",
      "execution_count": 7,
      "metadata": {},
      "outputs": [],
      "source": [
        "FILE_YEAR = \"2023\""
      ]
    },
    {
      "cell_type": "code",
      "execution_count": 8,
      "metadata": {},
      "outputs": [
        {
          "data": {
            "text/plain": [
              "Index(['제목', '작성일', '상담유형', '거주지역', '국적', '체류자격', '상담내용', '진행 과정 및 결과',\n",
              "       '관련법령 및 정보', '평가 및 의의', '상담지원단체', '작성자', 'url'],\n",
              "      dtype='object')"
            ]
          },
          "execution_count": 8,
          "metadata": {},
          "output_type": "execute_result"
        }
      ],
      "source": [
        "filtered_data.columns"
      ]
    },
    {
      "cell_type": "code",
      "execution_count": 11,
      "metadata": {},
      "outputs": [
        {
          "ename": "TypeError",
          "evalue": "expected str, bytes or os.PathLike object, not NoneType",
          "output_type": "error",
          "traceback": [
            "\u001b[0;31m---------------------------------------------------------------------------\u001b[0m",
            "\u001b[0;31mTypeError\u001b[0m                                 Traceback (most recent call last)",
            "Cell \u001b[0;32mIn[11], line 4\u001b[0m\n\u001b[1;32m      1\u001b[0m \u001b[38;5;66;03m# embedding batch 처리\u001b[39;00m\n\u001b[1;32m      2\u001b[0m \u001b[38;5;28;01mimport\u001b[39;00m \u001b[38;5;21;01mtime\u001b[39;00m\n\u001b[0;32m----> 4\u001b[0m metadata \u001b[38;5;241m=\u001b[39m \u001b[43mbatch_client\u001b[49m\u001b[38;5;241;43m.\u001b[39;49m\u001b[43mmake_generate\u001b[49m\u001b[43m(\u001b[49m\u001b[43mdf\u001b[49m\u001b[38;5;241;43m=\u001b[39;49m\u001b[43mfiltered_data\u001b[49m\u001b[43m,\u001b[49m\u001b[43m \u001b[49m\u001b[43mcolumn_name\u001b[49m\u001b[38;5;241;43m=\u001b[39;49m\u001b[38;5;124;43m\"\u001b[39;49m\u001b[38;5;124;43m해결방법\u001b[39;49m\u001b[38;5;124;43m\"\u001b[39;49m\u001b[43m,\u001b[49m\u001b[43m \u001b[49m\u001b[43mbatch_jsonl_path\u001b[49m\u001b[38;5;241;43m=\u001b[39;49m\u001b[38;5;124;43mf\u001b[39;49m\u001b[38;5;124;43m\"\u001b[39;49m\u001b[38;5;124;43m../data/batch_jsonl/input/consultation_documents_\u001b[39;49m\u001b[38;5;132;43;01m{\u001b[39;49;00m\u001b[43mFILE_YEAR\u001b[49m\u001b[38;5;132;43;01m}\u001b[39;49;00m\u001b[38;5;124;43m_batch.jsonl\u001b[39;49m\u001b[38;5;124;43m\"\u001b[39;49m\u001b[43m,\u001b[49m\u001b[43m \u001b[49m\u001b[43mmeta_path\u001b[49m\u001b[38;5;241;43m=\u001b[39;49m\u001b[38;5;124;43mf\u001b[39;49m\u001b[38;5;124;43m\"\u001b[39;49m\u001b[38;5;124;43m../data/meta_csv/consultation_documents_\u001b[39;49m\u001b[38;5;132;43;01m{\u001b[39;49;00m\u001b[43mFILE_YEAR\u001b[49m\u001b[38;5;132;43;01m}\u001b[39;49;00m\u001b[38;5;124;43m_meta.csv\u001b[39;49m\u001b[38;5;124;43m\"\u001b[39;49m\u001b[43m)\u001b[49m\n\u001b[1;32m      5\u001b[0m input_file_id \u001b[38;5;241m=\u001b[39m  metadata[\u001b[38;5;124m'\u001b[39m\u001b[38;5;124minput_file_id\u001b[39m\u001b[38;5;124m'\u001b[39m]\n\u001b[1;32m      6\u001b[0m \u001b[38;5;28mprint\u001b[39m(\u001b[38;5;124m'\u001b[39m\u001b[38;5;124m## input file id : \u001b[39m\u001b[38;5;124m'\u001b[39m, input_file_id)\n",
            "File \u001b[0;32m~/HelloWorld-AI/data/utils.py:127\u001b[0m, in \u001b[0;36mBatchClient.make_generate\u001b[0;34m(self, df, column_name, batch_jsonl_path, meta_path, prompt_path)\u001b[0m\n\u001b[1;32m    123\u001b[0m metadata_list \u001b[38;5;241m=\u001b[39m []\n\u001b[1;32m    125\u001b[0m \u001b[38;5;28;01mif\u001b[39;00m column_name \u001b[38;5;129;01min\u001b[39;00m \u001b[38;5;28mself\u001b[39m\u001b[38;5;241m.\u001b[39mgenerate_columns:\n\u001b[1;32m    126\u001b[0m     \u001b[38;5;66;03m# 프롬프트 불러오기\u001b[39;00m\n\u001b[0;32m--> 127\u001b[0m     \u001b[38;5;28;01mwith\u001b[39;00m \u001b[38;5;28;43mopen\u001b[39;49m\u001b[43m(\u001b[49m\u001b[43mprompt_path\u001b[49m\u001b[43m,\u001b[49m\u001b[43m \u001b[49m\u001b[38;5;124;43m'\u001b[39;49m\u001b[38;5;124;43mr\u001b[39;49m\u001b[38;5;124;43m'\u001b[39;49m\u001b[43m,\u001b[49m\u001b[43m \u001b[49m\u001b[43mencoding\u001b[49m\u001b[38;5;241;43m=\u001b[39;49m\u001b[38;5;124;43m'\u001b[39;49m\u001b[38;5;124;43mutf-8\u001b[39;49m\u001b[38;5;124;43m'\u001b[39;49m\u001b[43m)\u001b[49m \u001b[38;5;28;01mas\u001b[39;00m file:\n\u001b[1;32m    128\u001b[0m         PROMPT \u001b[38;5;241m=\u001b[39m file\u001b[38;5;241m.\u001b[39mread()\n\u001b[1;32m    130\u001b[0m     url \u001b[38;5;241m=\u001b[39m \u001b[38;5;124m\"\u001b[39m\u001b[38;5;124m/v1/chat/completions\u001b[39m\u001b[38;5;124m\"\u001b[39m\n",
            "\u001b[0;31mTypeError\u001b[0m: expected str, bytes or os.PathLike object, not NoneType"
          ]
        }
      ],
      "source": [
        "# embedding batch 처리\n",
        "import time\n",
        "\n",
        "metadata = batch_client.make_generate(df=filtered_data, column_name=\"해결방법\", \n",
        "                                      prompt_path=\"../prompts/generate_prompt.json\",\n",
        "                                      batch_jsonl_path=f\"../data/batch_jsonl/input/consultation_documents_{FILE_YEAR}_batch.jsonl\",\n",
        "                                      meta_path=f\"../data/meta_csv/consultation_documents_{FILE_YEAR}_meta.csv\")\n",
        "input_file_id =  metadata['input_file_id']\n",
        "print('## input file id : ', input_file_id)\n",
        "\n",
        "# while True:\n",
        "#     status = BatchClient.get_batch_status(input_file_id)\n",
        "#     print('## current status : ', status.status)\n",
        "\n",
        "#     if status.status == \"completed\":\n",
        "#         output_file_id = status.output_file_id\n",
        "#         print(f'## batch completed!\\noutput file id : {output_file_id}')\n",
        "#         break\n",
        "\n",
        "#     else:\n",
        "#         print('## Wait untill completed...')\n",
        "#         time.sleep(60)\n",
        "\n",
        "# BatchClient.get_batch_answer(output_file_id=input_file_id, result_path=f\"../data/batch_jsonl/output/consultation_documents_{FILE_YEAR}_batch.jsonl\")\n"
      ]
    },
    {
      "cell_type": "code",
      "execution_count": null,
      "metadata": {},
      "outputs": [],
      "source": []
    },
    {
      "cell_type": "code",
      "execution_count": null,
      "metadata": {},
      "outputs": [],
      "source": []
    }
  ],
  "metadata": {
    "colab": {
      "provenance": [],
      "toc_visible": true
    },
    "kernelspec": {
      "display_name": "Python 3",
      "name": "python3"
    },
    "language_info": {
      "codemirror_mode": {
        "name": "ipython",
        "version": 3
      },
      "file_extension": ".py",
      "mimetype": "text/x-python",
      "name": "python",
      "nbconvert_exporter": "python",
      "pygments_lexer": "ipython3",
      "version": "3.11.9"
    }
  },
  "nbformat": 4,
  "nbformat_minor": 0
}
