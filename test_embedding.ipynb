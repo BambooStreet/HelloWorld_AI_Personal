{
 "cells": [
  {
   "cell_type": "markdown",
   "metadata": {},
   "source": [
    "# 임베딩 재설정"
   ]
  },
  {
   "cell_type": "markdown",
   "metadata": {},
   "source": [
    "변수 초기화"
   ]
  },
  {
   "cell_type": "code",
   "execution_count": 4,
   "metadata": {},
   "outputs": [],
   "source": [
    "from langchain_mongodb import MongoDBAtlasVectorSearch\n",
    "from langchain_openai import OpenAIEmbeddings\n",
    "from pymongo import MongoClient\n",
    "import os\n",
    "from dotenv import load_dotenv\n",
    "\n",
    "# 현재 작업 디렉토리를 얻습니다.\n",
    "current_dir = os.getcwd()\n",
    "\n",
    "# .env 파일의 경로를 지정합니다.\n",
    "dotenv_path = os.path.join(current_dir, 'model', '.env')\n",
    "load_dotenv(dotenv_path)\n",
    "\n",
    "# MongoDB 연결 설정\n",
    "client = MongoClient(os.getenv(\"MONGODB_ATLAS_CLUSTER_URI\"))\n",
    "db_name = \"HelloWorld-AI\"\n",
    "collection_name = \"foreigner_legalQA\"\n",
    "db = client[db_name]\n",
    "collection = db[collection_name]\n",
    "\n",
    "# OpenAI Embeddings 초기화\n",
    "os.environ[\"OPENAI_API_KEY\"] = os.getenv(\"OPENAI_KEY\")\n",
    "embedding = OpenAIEmbeddings() #기본은 text-embedding-ada-002"
   ]
  },
  {
   "cell_type": "markdown",
   "metadata": {},
   "source": [
    "임베딩 재설정"
   ]
  },
  {
   "cell_type": "code",
   "execution_count": 13,
   "metadata": {},
   "outputs": [],
   "source": [
    "def recreate_embeddings():\n",
    "    for doc in collection.find():\n",
    "        text = doc.get(\"text\", \"\")\n",
    "        if text:\n",
    "            vector = embedding.embed_query(text)\n",
    "            collection.update_one({\"_id\": doc[\"_id\"]}, {\"$set\": {\"embedding\": vector}})\n",
    "    print(\"Embeddings recreated for all documents\")\n",
    "\n",
    "recreate_embeddings()"
   ]
  },
  {
   "cell_type": "markdown",
   "metadata": {},
   "source": [
    "DB 초기화"
   ]
  },
  {
   "cell_type": "code",
   "execution_count": 5,
   "metadata": {},
   "outputs": [],
   "source": [
    "vector_store = MongoDBAtlasVectorSearch(\n",
    "    collection=collection, #임베딩 대상 콜렉션\n",
    "    embedding=embedding, #임베딩 소스 여기선 OPenai embedding\n",
    "    index_name=\"vector_index\", #임베딩 인덱스\n",
    "    text_key=\"text\", #텍스트 내용 저장된 필드\n",
    "    embedding_key=\"embedding\" # 벡터가 저장된 필드 이름\n",
    ")"
   ]
  },
  {
   "cell_type": "markdown",
   "metadata": {},
   "source": [
    "데이터 확인"
   ]
  },
  {
   "cell_type": "code",
   "execution_count": 9,
   "metadata": {},
   "outputs": [
    {
     "name": "stdout",
     "output_type": "stream",
     "text": [
      "Sample document with embedding:\n",
      "Text: 중도 퇴사 후 근로소득 신고되지 않아 고용허가연장 안된 노동자 지원 작성일: 23-11-27\n",
      "상담유형: 체류자격\n",
      "거주지역: 여주시\n",
      "국적: 우즈베키스탄\n",
      "체류자격: E-9\n",
      "상담내용: ...\n",
      "Embedding length: 1536\n",
      "Embedding type: <class 'list'>\n"
     ]
    }
   ],
   "source": [
    "sample_doc = collection.find_one({\"embedding\": {\"$exists\": True}})\n",
    "if sample_doc:\n",
    "    print(\"Sample document with embedding:\")\n",
    "    print(f\"Text: {sample_doc.get('text', '')[:100]}...\")\n",
    "    print(f\"Embedding length: {len(sample_doc.get('embedding', []))}\")\n",
    "    print(f\"Embedding type: {type(sample_doc['embedding'])}\")\n",
    "else:\n",
    "    print(\"No documents found with embeddings.\")"
   ]
  },
  {
   "cell_type": "code",
   "execution_count": 11,
   "metadata": {},
   "outputs": [],
   "source": [
    "vector_store = MongoDBAtlasVectorSearch(\n",
    "    collection=collection,\n",
    "    embedding=embedding,\n",
    "    index_name=\"vector_index\",\n",
    "    text_key=\"text\",\n",
    "    embedding_key=\"embedding\"\n",
    ")"
   ]
  },
  {
   "cell_type": "code",
   "execution_count": 12,
   "metadata": {},
   "outputs": [
    {
     "name": "stdout",
     "output_type": "stream",
     "text": [
      "Error during similarity search: OperationFailure\n",
      "Error message: PlanExecutor error during aggregation :: caused by :: embedding is not indexed as vector, full error: {'ok': 0.0, 'errmsg': 'PlanExecutor error during aggregation :: caused by :: embedding is not indexed as vector', 'code': 8, 'codeName': 'UnknownError', '$clusterTime': {'clusterTime': Timestamp(1725012212, 4), 'signature': {'hash': b'\\xe9\\xc6\\xaa1\\xbc\\x13\\xd7^\\xf7\\xaf\\x15L\\xe4S\\xe6J^\\x00\\x12\\xa6', 'keyId': 7367405561744195589}}, 'operationTime': Timestamp(1725012212, 4)}\n",
      "Error details: {'ok': 0.0, 'errmsg': 'PlanExecutor error during aggregation :: caused by :: embedding is not indexed as vector', 'code': 8, 'codeName': 'UnknownError', '$clusterTime': {'clusterTime': Timestamp(1725012212, 4), 'signature': {'hash': b'\\xe9\\xc6\\xaa1\\xbc\\x13\\xd7^\\xf7\\xaf\\x15L\\xe4S\\xe6J^\\x00\\x12\\xa6', 'keyId': 7367405561744195589}}, 'operationTime': Timestamp(1725012212, 4)}\n"
     ]
    }
   ],
   "source": [
    "query = \"한국의 노동 휴게시간\"\n",
    "try:\n",
    "    similar_docs = vector_store.similarity_search(query, k=3)\n",
    "    print(f\"Query: {query}\")\n",
    "    print(f\"Number of similar docs found: {len(similar_docs)}\")\n",
    "    for i, doc in enumerate(similar_docs):\n",
    "        print(f\"Document {i+1}:\")\n",
    "        print(f\"Content: {doc.page_content[:100]}...\")\n",
    "        print(f\"Metadata: {doc.metadata}\")\n",
    "        print(\"---\")\n",
    "except Exception as e:\n",
    "    print(f\"Error during similarity search: {type(e).__name__}\")\n",
    "    print(f\"Error message: {str(e)}\")\n",
    "    if hasattr(e, 'details'):\n",
    "        print(f\"Error details: {e.details}\")"
   ]
  },
  {
   "cell_type": "markdown",
   "metadata": {},
   "source": [
    "유사도 계산"
   ]
  },
  {
   "cell_type": "code",
   "execution_count": 7,
   "metadata": {},
   "outputs": [
    {
     "name": "stdout",
     "output_type": "stream",
     "text": [
      "Error during similarity search: OperationFailure, PlanExecutor error during aggregation :: caused by :: embedding is not indexed as vector, full error: {'ok': 0.0, 'errmsg': 'PlanExecutor error during aggregation :: caused by :: embedding is not indexed as vector', 'code': 8, 'codeName': 'UnknownError', '$clusterTime': {'clusterTime': Timestamp(1725011868, 6), 'signature': {'hash': b'P\\xff\\x0c\\xa1p+\\x88\\x80\\xc7\\xcb\\xd9`{\\xb5\\x82\\xddq\\x88\\xb0/', 'keyId': 7367405561744195589}}, 'operationTime': Timestamp(1725011868, 6)}\n"
     ]
    }
   ],
   "source": [
    "# 검색 쿼리 실행\n",
    "query = \"한국의 노동 휴게시간\"\n",
    "try:\n",
    "    similar_docs = vector_store.similarity_search(query, k=3)\n",
    "    print(f\"Query: {query}\")\n",
    "    print(f\"Number of similar docs found: {len(similar_docs)}\")\n",
    "    for i, doc in enumerate(similar_docs):\n",
    "        print(f\"Document {i+1}:\")\n",
    "        print(f\"Content: {doc.page_content[:100]}...\")  # 처음 100자만 출력\n",
    "        print(f\"Metadata: {doc.metadata}\")\n",
    "        print(\"---\")\n",
    "except Exception as e:\n",
    "    print(f\"Error during similarity search: {type(e).__name__}, {str(e)}\")"
   ]
  },
  {
   "cell_type": "code",
   "execution_count": null,
   "metadata": {},
   "outputs": [],
   "source": []
  }
 ],
 "metadata": {
  "kernelspec": {
   "display_name": "new_env",
   "language": "python",
   "name": "python3"
  },
  "language_info": {
   "codemirror_mode": {
    "name": "ipython",
    "version": 3
   },
   "file_extension": ".py",
   "mimetype": "text/x-python",
   "name": "python",
   "nbconvert_exporter": "python",
   "pygments_lexer": "ipython3",
   "version": "3.12.5"
  }
 },
 "nbformat": 4,
 "nbformat_minor": 2
}
